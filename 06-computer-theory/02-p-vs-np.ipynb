{
 "cells": [
  {
   "cell_type": "markdown",
   "metadata": {},
   "source": [
    "# The Most Important Open Problem in CS"
   ]
  },
  {
   "cell_type": "markdown",
   "metadata": {},
   "source": [
    "An \"efficient\" or \"tractable\" algorithm is one whose runtime is polynomial or better.\n",
    "\n",
    "$O(n^c)$\n",
    "\n",
    "Examples:\n",
    "- $O(n^2)$\n",
    "- $O(n log n)$\n",
    "- $O(n)$\n",
    "- $O(log n)$\n",
    "- $O(1)$\n",
    "\n",
    "Example Algorithms:\n",
    "- Selection Sort\n",
    "- Merge Sort\n",
    "- Linear Search\n",
    "- Binary Search\n",
    "- Inserting into a tree\n",
    "- Inserting into a linked list\n",
    "\n",
    "\"intractable\" or \"inefficient\" do not have a polynomial runtime.\n",
    "\n",
    "Example: Recursive Fib $O(2^n)$\n",
    "\n",
    "As a comparison, the 270th fibonacci number would take $2^{270}$ operations.\n"
   ]
  },
  {
   "cell_type": "markdown",
   "metadata": {},
   "source": [
    "$2^{270} = 1.8971376e+81$\n",
    "\n",
    "Number of atoms in the known universe is: $10^{78}$ - $10^{82}$\n",
    "\n",
    "Calculating the 270th fibonacci number takes a number of operatioins comparable to the number of atoms in the known universe!!"
   ]
  },
  {
   "cell_type": "markdown",
   "metadata": {},
   "source": [
    "Natural Question: Which problems require exponential times? Maybe for those, we should approximate their solutions.\n",
    "\n"
   ]
  },
  {
   "cell_type": "markdown",
   "metadata": {},
   "source": [
    "In the history of CS, as computers became more powerful, computer scientists started to apply them to more and more real world problems.\n",
    "\n",
    "Many problems were found to be tractable, but for some problems no efficient solution was found: logistics, circuit design, and other imminently applicable problems.\n",
    "\n",
    "Computer scientists began to classify problems by the efficiency of their known algorithms.\n",
    "\n",
    "```\n",
    "EASY              |  <-------????-------->   |  HARD\n",
    "----------------------------------------------------\n",
    "Sorting           |            TSP           |  Chess  \n",
    "Searching         |         Max Clique       |\n",
    "Tree Traversals   |         Boolean SAT      |\n",
    "Graph Searching   |       Graph Coloring     |\n",
    "Multiplication\n",
    "```\n",
    "\n",
    "There are whole set of problem for whome no efficient algorithms have been found, but we don't know if it is because they are inherently hard or because we just haven't been clever enough yet.\n",
    "\n"
   ]
  },
  {
   "cell_type": "markdown",
   "metadata": {},
   "source": [
    "# P vs. NP\n",
    "\n",
    "The \"EASY\" problems we classify as belong to class **P**.\n",
    "\n",
    "**P** is the class of problems whose runtime is polynomial or better.\n",
    "\n",
    "The \"???\" problems belong to class **NP**.\n",
    "\n",
    "## Class NP\n",
    "\n",
    "Class **NP** stand for \"Non-deterministic Polynomial Time\".\n",
    "\n",
    "This means that that a non-deterministic algorithm could solve this problem in polynomial time.\n",
    "\n",
    "\"non-determinism\" is a wonky idea from computer theory. All classical computers are deterministic. Every step is determined exactly by all preceding steps.\n",
    "\n",
    "A **non-deterministic algorithm** can make decisions from information not inside of a computer. When presented with some choice, a non-deterministic computer will always pick the optimal choice.\n",
    "\n",
    "A **non-deterministic algorithm** can evaluate all possibilities simultaneously and simply pick the optimal or correct choice.\n",
    "\n",
    "The \"polynomial time\" part indicates that with such a magical algorithm, then we could solve a problem in class **NP** in polynomial time.\n",
    "\n",
    "One strategy for solving these problems would be to evaluate all possible solutions simultaneously, verifying whether each is correct or not, then simply returning the correct one.\n",
    "\n",
    "This implies that the verification algorithm for each problem must run in polynomial time.\n",
    "\n",
    "All of these problems are difficult to solve, but easy to check.\n",
    "\n",
    "## NP-Complete\n",
    "\n",
    "It has been discovered that there is a subset of problems in **NP** that are all actually equivalent.\n",
    "\n",
    "It is possible to transform (**reduce**) from any of these problems to any other one efficiently (in polynomial time).\n",
    "\n",
    "NP-Complete Problems:\n",
    "- TSP (routing, logistics)\n",
    "- Max Clique (protein structure comparison)\n",
    "- Graph Coloring (scheduling, compiler registers allocation)\n",
    "- Boolean SAT (circuit design, automated theorem proving)\n",
    "- Max Graph Cut (theoretical physics (Energy minimizaiton))\n",
    "- Vertex Covering\n",
    "- etc..\n",
    "\n",
    "They are ALL equivalent.\n",
    "\n",
    "## P == NP?\n",
    "\n",
    "No efficient algorithm has been found for any of the above problems.\n",
    "\n",
    "If an efficient algorithm is found for ANY of them, you have an efficient solution for all of them.\n",
    "\n",
    "This is known as the **P == NP** problem. Are all problems in class **NP** solveable in polynomial time or not? The ramifications of the solution can be huge. For this reason, there is a $1 million prize out for the solution. "
   ]
  }
 ],
 "metadata": {
  "language_info": {
   "name": "python"
  },
  "orig_nbformat": 4
 },
 "nbformat": 4,
 "nbformat_minor": 2
}
