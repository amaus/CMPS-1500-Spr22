{
 "cells": [
  {
   "cell_type": "markdown",
   "metadata": {},
   "source": [
    "# Computer Science Origins\n",
    "\n",
    "At the turn of the previous century (1900), the famous mathematician Hilbert wanted to prove it was possible to come up with axiomatic system of knowledge what was:\n",
    "\n",
    "1) Complete: Any True state can be proved.\n",
    "2) Consistent: There are no contradictions between proofs in the system\n",
    "3) Decidable: Any statement can be proved to be True or False."
   ]
  },
  {
   "cell_type": "markdown",
   "metadata": {},
   "source": [
    "# Gōdel's Incompleteness Theorems\n",
    "\n",
    "Gōdel proved in 1931 that any axiomatic system pertaining to natural numbers: If it is consisten, then it can not be complete, and if it is complete, it can not be consistent.\n",
    "\n",
    "He also proved that it is impossible to prove whether a system is consistent or not.\n",
    "\n",
    "Gōdel did this by building a way to represent mathematical statements and proofs by numbers (**gōdel numbers**). Influenced by self-referential systems and paradoxes, he built a statement analogous to the paradox: \"This statement is False.\"\n",
    "\n",
    "The existence of this paradox proved that any axiomatic system is either complete or consistent, but not both."
   ]
  },
  {
   "cell_type": "markdown",
   "metadata": {},
   "source": [
    "# Turing on Decidability\n",
    "\n",
    "Alan Turing was considering the decidability question.\n",
    "\n",
    "\"Are there decision problems which are impossible to answer?\"\n",
    "\n",
    "To address this question, Turing invented a system to represent the process of making decisions: The Turing Machine \n",
    "\n",
    "The Turing Machine has a tape containing 1's and 0's. It also has a little machine that moves along the tape from one cell to the next."
   ]
  },
  {
   "cell_type": "markdown",
   "metadata": {},
   "source": [
    "<br>\n",
    "<img src=\"images/01-turing-machine.png\" width=\"50%\"/>\n",
    "<br>"
   ]
  },
  {
   "cell_type": "markdown",
   "metadata": {},
   "source": [
    "The machine has three actions:\n",
    "1. Update the current cell\n",
    "2. Move to left one spot\n",
    "3. Move to the right one spot\n",
    "\n",
    "It contains a set of states (its program) which it used to decide what to do based off of what it has seen so far.\n",
    "\n",
    "In this way, when the program starts, the tape contains the input, the machine then processes it, and at the end the tape contains the output.\n",
    "\n",
    "This is the theoretical foundation for all classical computers. \n"
   ]
  },
  {
   "cell_type": "markdown",
   "metadata": {},
   "source": [
    "\n",
    "# The Halting Problem\n",
    "\n",
    "With his machine in hand, Turing asked: given some input sequence (starting state for his tape) and a program, will the machine ever halt?\n",
    "\n",
    "Turing proved that it is impossible to create a machine that can answer this question in general for any input program."
   ]
  },
  {
   "cell_type": "markdown",
   "metadata": {},
   "source": [
    "**Idea of Proof:**\n",
    "\n",
    "Supose that there exists a program which solved the halting problem: `HALT`. This program reads in another program and returns True if that program will half and False otherwise.\n",
    "\n",
    "Then he showed that using `HALT` we can write another program that is impossible (a paradoxical program!).\n",
    "\n",
    "``` python\n",
    "def halt(function):\n",
    "    # return True if the function will halt\n",
    "    # false otherwise\n",
    "\n",
    "def pathological():\n",
    "    if(halt(pathological) == True):\n",
    "        while True:\n",
    "            continue\n",
    "    else:\n",
    "        return\n",
    "```\n",
    "\n",
    "The pathological function is a paradox. It is impossible, and thus `HALT` must be impossible. The halting problem in incomputable.\n",
    "\n",
    "With this, Turing proved that there exist questions which are undecidable. There are questions that are impossible to answer."
   ]
  },
  {
   "cell_type": "markdown",
   "metadata": {},
   "source": [
    "Hilbert's program for a complete, consistent, and decidable system for knowledge was thus dashed.\n",
    "\n",
    "Any axiomatic system (based on natural numbers) is either complete or consistent (not both, and we don't know which), and it is not decidable."
   ]
  }
 ],
 "metadata": {
  "language_info": {
   "name": "python"
  },
  "orig_nbformat": 4
 },
 "nbformat": 4,
 "nbformat_minor": 2
}
