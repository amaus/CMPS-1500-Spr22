{
 "cells": [
  {
   "cell_type": "markdown",
   "metadata": {},
   "source": [
    "# Object Oriented Programming\n",
    "\n",
    "## Motivation\n",
    "\n",
    "Meta Goals for Programming:\n",
    "\n",
    "- Readable\n",
    "- Maintainable\n",
    "- Extensible\n",
    "\n",
    "By extensible, we want to be able to easily add new components and functionality to our programs.\n",
    "\n",
    "Object Oriented Programming is a programming paradigm where we organize our programs into components which interact each other to accomplish the goals of the program.\n",
    "\n",
    "## Objects and Classes\n",
    "\n",
    "We've seen objects before:\n",
    "\n",
    "```python\n",
    "str = \"this is a sentence\"\n",
    "str.split()\n",
    "```\n",
    "\n",
    "Objects have functions that we can call on them.\n",
    "\n",
    "An **object** is some collection of data and a set of functions to operate on/manipulate/access that data."
   ]
  },
  {
   "cell_type": "markdown",
   "metadata": {},
   "source": [
    "### A second example: Cars in Need for Speed\n",
    "\n",
    "We want to design a car object, we need to decide what data is relevant to track for the game and what functionality the car should have.\n",
    "\n",
    "We store the relevant information in attributes, e.g, variable:\n",
    "\n",
    "- position\n",
    "- acceleration\n",
    "- speed\n",
    "- max_velocity\n",
    "...\n",
    "\n",
    "Functions:\n",
    "- accelerate\n",
    "- decelerate\n",
    "- turn\n",
    "..."
   ]
  },
  {
   "cell_type": "markdown",
   "metadata": {},
   "source": [
    "## Classes\n",
    "\n",
    "We define objects by writing **classes**. A **class** is a blueprint for an object.\n",
    "\n",
    "The class defines what the attributes and functions are that define this object.\n",
    "\n",
    "Once we've written a class, we can create as many **instances** of it (object from it) as we want, and each will have its own copy of all of the attributes and functions.\n",
    "\n",
    "More jargon: An **object** is an **instance** of a **class**.\n",
    "\n",
    "To write a class, we need to define/implement the following:\n",
    "\n",
    "- class definition\n",
    "- attributes aka **instance variables**\n",
    "- a constructor\n",
    "- the set of functions for the class\n",
    "\n"
   ]
  },
  {
   "cell_type": "markdown",
   "metadata": {},
   "source": [
    "# Example: A Text-Based Adventure Game\n",
    "\n",
    "Let's creat a Hero Class.\n",
    "\n",
    "Attributes:\n",
    "- HP\n",
    "- damage\n",
    "- name\n",
    "\n",
    "Functions:\n",
    "- attack\n",
    "- take_damage\n",
    "\n",
    "Writing this class:\n",
    "\n",
    "We'll start with creating the constructor.\n",
    "\n",
    "The purpose of the constructor is to initialize the attributes.\n",
    "\n",
    "We implement the constructor using the special `__init__()` function.\n",
    "\n",
    "It always takes a first parameter: `self`. `self` allows us to access the attributes."
   ]
  },
  {
   "cell_type": "markdown",
   "metadata": {},
   "source": [
    "### Special Functions\n",
    "\n",
    "Special functions are those whose name is bracketed by double underscores. These functions define special behavior for python. \n",
    "\n",
    "There is a special function `__str__()` which allows us to return a string representation for the object. It determines what string should be returned when the regular function `str()` is called.\n",
    "\n",
    "There is a second version `__repr__()` whose purpose is the same.\n",
    "\n",
    "The difference is that `__str__` is intended for human readable messages and `__repr__` is intended for machine parsable messages."
   ]
  },
  {
   "cell_type": "code",
   "execution_count": 15,
   "metadata": {},
   "outputs": [],
   "source": [
    "import random\n",
    "class Character:\n",
    "    # constructor:\n",
    "    def __init__(self, name, hp, attack, hit_prob):\n",
    "        self.hp = hp\n",
    "        self.attack_strength = attack\n",
    "        self.name = name\n",
    "        self.hit_prob = hit_prob\n",
    "\n",
    "    def __str__(self):\n",
    "        return \"{}\\nHP {}\\nDamage {}\\n\".format(self.name, self.hp, self.attack_strength)\n",
    "\n",
    "    def attack(self, other):\n",
    "        to_hit = random.randint(0,100)\n",
    "        if(to_hit < self.hit_prob):\n",
    "            print(\"{} attacks {} for {} damage.\".format(self.name, other.name, self.attack_strength))\n",
    "            other.take_damage(self.attack_strength)\n",
    "        else:\n",
    "            print(\"Ah! {} Missed!!\".format(self.name))\n",
    "    \n",
    "    def take_damage(self, damage):\n",
    "        self.hp = self.hp - damage\n",
    "        if (self.hp <= 0):\n",
    "            self.hp = 0\n",
    "        print(\"{} took {} damage, hp remaining: {}\".format(self.name, damage, self.hp))\n",
    "\n",
    "    def is_alive(self):\n",
    "        if(self.hp > 0):\n",
    "            return True\n",
    "        else:\n",
    "            return False"
   ]
  },
  {
   "cell_type": "code",
   "execution_count": 18,
   "metadata": {},
   "outputs": [
    {
     "name": "stdout",
     "output_type": "stream",
     "text": [
      "Aragorn attacks Uruk-hai for 20 damage.\n",
      "Uruk-hai took 20 damage, hp remaining: 55\n",
      "Ah! Uruk-hai Missed!!\n",
      "Ah! Aragorn Missed!!\n",
      "Ah! Uruk-hai Missed!!\n",
      "Aragorn attacks Uruk-hai for 20 damage.\n",
      "Uruk-hai took 20 damage, hp remaining: 35\n",
      "Uruk-hai attacks Aragorn for 40 damage.\n",
      "Aragorn took 40 damage, hp remaining: 60\n",
      "Ah! Aragorn Missed!!\n",
      "Ah! Uruk-hai Missed!!\n",
      "Ah! Aragorn Missed!!\n",
      "Ah! Uruk-hai Missed!!\n",
      "Aragorn attacks Uruk-hai for 20 damage.\n",
      "Uruk-hai took 20 damage, hp remaining: 15\n",
      "Ah! Uruk-hai Missed!!\n",
      "Aragorn attacks Uruk-hai for 20 damage.\n",
      "Uruk-hai took 20 damage, hp remaining: 0\n",
      "Uruk-hai has been slain by Aragorn!\n"
     ]
    }
   ],
   "source": [
    "hero = Character(\"Aragorn\", 100, 20, 70)\n",
    "monster = Character(\"Uruk-hai\", 75, 40, 10) \n",
    "\n",
    "while(hero.is_alive() and monster.is_alive()):\n",
    "    hero.attack(monster)\n",
    "    if(not monster.is_alive()):\n",
    "        print(\"{} has been slain by {}!\".format(monster.name, hero.name))\n",
    "        break\n",
    "    monster.attack(hero)\n",
    "    if(not hero.is_alive()):\n",
    "        print(\"{} has been slain by {}!\".format(hero.name, monster.name))\n",
    "        break\n",
    "\n",
    "\n",
    "\n",
    "#print(\"{} has been slain by {}!\".format(self.name ))"
   ]
  }
 ],
 "metadata": {
  "interpreter": {
   "hash": "aee8b7b246df8f9039afb4144a1f6fd8d2ca17a180786b69acc140d282b71a49"
  },
  "kernelspec": {
   "display_name": "Python 3.9.6 64-bit",
   "language": "python",
   "name": "python3"
  },
  "language_info": {
   "codemirror_mode": {
    "name": "ipython",
    "version": 3
   },
   "file_extension": ".py",
   "mimetype": "text/x-python",
   "name": "python",
   "nbconvert_exporter": "python",
   "pygments_lexer": "ipython3",
   "version": "3.9.6"
  },
  "orig_nbformat": 4
 },
 "nbformat": 4,
 "nbformat_minor": 2
}
