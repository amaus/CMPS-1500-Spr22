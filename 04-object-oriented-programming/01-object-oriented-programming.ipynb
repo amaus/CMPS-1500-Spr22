{
 "cells": [
  {
   "cell_type": "markdown",
   "metadata": {},
   "source": [
    "# Object Oriented Programming\n",
    "\n",
    "## Motivation\n",
    "\n",
    "Meta Goals for Programming:\n",
    "\n",
    "- Readable\n",
    "- Maintainable\n",
    "- Extensible\n",
    "\n",
    "By extensible, we want to be able to easily add new components and functionality to our programs.\n",
    "\n",
    "Object Oriented Programming is a programming paradigm where we organize our programs into components which interact each other to accomplish the goals of the program.\n",
    "\n",
    "## Objects and Classes\n",
    "\n",
    "We've seen objects before:\n",
    "\n",
    "```python\n",
    "str = \"this is a sentence\"\n",
    "str.split()\n",
    "```\n",
    "\n",
    "Objects have functions that we can call on them.\n",
    "\n",
    "An **object** is some collection of data and a set of functions to operate on/manipulate/access that data."
   ]
  },
  {
   "cell_type": "markdown",
   "metadata": {},
   "source": [
    "### A second example: Cars in Need for Speed\n",
    "\n",
    "We want to design a car object, we need to decide what data is relevant to track for the game and what functionality the car should have.\n",
    "\n",
    "We store the relevant information in attributes, e.g, variable:\n",
    "\n",
    "- position\n",
    "- acceleration\n",
    "- speed\n",
    "- max_velocity\n",
    "...\n",
    "\n",
    "Functions:\n",
    "- accelerate\n",
    "- decelerate\n",
    "- turn\n",
    "..."
   ]
  },
  {
   "cell_type": "markdown",
   "metadata": {},
   "source": [
    "## Classes\n",
    "\n",
    "We define objects by writing **classes**. A **class** is a blueprint for an object.\n",
    "\n",
    "The class defines what the attributes and functions are that define this object.\n",
    "\n",
    "Once we've written a class, we can create as many **instances** of it (object from it) as we want, and each will have its own copy of all of the attributes and functions.\n",
    "\n",
    "More jargon: An **object** is an **instance** of a **class**.\n",
    "\n",
    "To write a class, we need to define/implement the following:\n",
    "\n",
    "- class definition\n",
    "- attributes aka **instance variables**\n",
    "- a constructor\n",
    "- the set of functions for the class\n",
    "\n"
   ]
  },
  {
   "cell_type": "markdown",
   "metadata": {},
   "source": [
    "# Example: A Text-Based Adventure Game\n",
    "\n",
    "Let's creat a Hero Class.\n",
    "\n",
    "Attributes:\n",
    "- HP\n",
    "- damage\n",
    "- name\n",
    "\n",
    "Functions:\n",
    "- attack\n",
    "- take_damage\n",
    "\n",
    "Writing this class:\n",
    "\n",
    "We'll start with creating the constructor.\n",
    "\n",
    "The purpose of the constructor is to initialize the attributes.\n",
    "\n",
    "We implement the constructor using the special `__init__()` function.\n",
    "\n",
    "It always takes a first parameter: `self`. `self` allows us to access the attributes."
   ]
  },
  {
   "cell_type": "markdown",
   "metadata": {},
   "source": [
    "### Special Functions\n",
    "\n",
    "Special functions are those whose name is bracketed by double underscores. These functions define special behavior for python. \n",
    "\n",
    "There is a special function `__str__()` which allows us to return a string representation for the object. It determines what string should be returned when the regular function `str()` is called.\n",
    "\n",
    "There is a second version `__repr__()` whose purpose is the same.\n",
    "\n",
    "The difference is that `__str__` is intended for human readable messages and `__repr__` is intended for machine parsable messages."
   ]
  },
  {
   "cell_type": "code",
   "execution_count": 1,
   "metadata": {},
   "outputs": [],
   "source": [
    "class Hero:\n",
    "    # constructor:\n",
    "    def __init__(self, name, hp, damage):\n",
    "        self.hp = hp\n",
    "        self.damage = damage\n",
    "        self.name = name\n",
    "\n",
    "    def __str__(self):\n",
    "        return \"Hero {}\\nHP {}\\nDamage {}\\n\".format(self.name, self.hp, self.damage)\n",
    "\n",
    "    def attack(self):\n",
    "        # TODO\n",
    "        return\n",
    "    \n",
    "    def take_damage(self):\n",
    "        # TODO\n",
    "        return"
   ]
  },
  {
   "cell_type": "code",
   "execution_count": 4,
   "metadata": {},
   "outputs": [
    {
     "name": "stdout",
     "output_type": "stream",
     "text": [
      "Hero Aragorn\n",
      "HP 100\n",
      "Damage 50\n",
      "\n"
     ]
    }
   ],
   "source": [
    "hero = Hero(\"Aragorn\", 100, 50)\n",
    "print(hero)"
   ]
  }
 ],
 "metadata": {
  "interpreter": {
   "hash": "aee8b7b246df8f9039afb4144a1f6fd8d2ca17a180786b69acc140d282b71a49"
  },
  "kernelspec": {
   "display_name": "Python 3.9.6 64-bit",
   "language": "python",
   "name": "python3"
  },
  "language_info": {
   "codemirror_mode": {
    "name": "ipython",
    "version": 3
   },
   "file_extension": ".py",
   "mimetype": "text/x-python",
   "name": "python",
   "nbconvert_exporter": "python",
   "pygments_lexer": "ipython3",
   "version": "3.9.6"
  },
  "orig_nbformat": 4
 },
 "nbformat": 4,
 "nbformat_minor": 2
}
