{
 "cells": [
  {
   "cell_type": "markdown",
   "metadata": {},
   "source": [
    "# Graphs!\n",
    "\n",
    "A graph is our most general linked data structure.\n",
    "\n",
    "Graphs are a set of vertices connected by edges.\n",
    "\n"
   ]
  },
  {
   "cell_type": "markdown",
   "metadata": {},
   "source": [
    "<br>\n",
    "<img src=\"images/01-graph.png\" width=\"50%\"/>\n",
    "<br>"
   ]
  },
  {
   "cell_type": "markdown",
   "metadata": {},
   "source": [
    "## Application\n",
    "\n",
    "Computer Networks:\n",
    "\n",
    "<br>\n",
    "<img src=\"images/02-network.png\" width=\"50%\"/>\n",
    "<br>"
   ]
  },
  {
   "cell_type": "markdown",
   "metadata": {},
   "source": [
    "The internet, curtesy of [The Opte Project](https://www.researchgate.net/figure/Example-of-large-and-complex-networks-Visualization-of-the-Internet-graph-by-the-Opte_fig2_325794369):\n",
    "\n",
    "<br>\n",
    "<img src=\"images/03-internet.jpg\" width=\"50%\"/>\n",
    "<br>"
   ]
  },
  {
   "cell_type": "markdown",
   "metadata": {},
   "source": [
    "High School Romantic Relationships\n",
    "\n",
    "<br>\n",
    "<img src=\"images/04-relationships.png\" width=\"75%\"/>\n",
    "<br>"
   ]
  },
  {
   "cell_type": "markdown",
   "metadata": {},
   "source": [
    "Other applications:\n",
    "\n",
    "- Route Planning\n",
    "- Social Networks\n",
    "- Cellular Processes/Biomolecular Interations\n",
    "- Public Transit\n",
    "- Advertising Related Products\n",
    "- Disease Spreading/contact tracing\n",
    "- Supply Chains\n",
    "\n",
    "Any time that we want to study some set of objects and the relationships between them, graphs are useful."
   ]
  },
  {
   "cell_type": "markdown",
   "metadata": {},
   "source": [
    "## Graph Representations\n",
    "\n",
    "The simplest way is to create a table of the edges in a graph.\n",
    "\n",
    "<br>\n",
    "<img src=\"images/01-graph.png\" width=\"50%\"/>\n",
    "<br>\n",
    "\n",
    "\n"
   ]
  },
  {
   "cell_type": "markdown",
   "metadata": {},
   "source": [
    "For the directed graph above:\n",
    "\n",
    "```\n",
    "   A  B  C  D\n",
    "A  0  1  0  0\n",
    "B  0  0  1  0\n",
    "C  0  0  0  1\n",
    "D  0  1  0  0\n",
    "```"
   ]
  },
  {
   "cell_type": "markdown",
   "metadata": {},
   "source": [
    "This is known as **adjacency matrix** representation. Not easy to read as human, but easy to process as computer."
   ]
  },
  {
   "cell_type": "markdown",
   "metadata": {},
   "source": [
    "```\n",
    "   A  B  C  D\n",
    "A  0  1  0  0\n",
    "B  1  0  1  1\n",
    "C  0  1  0  1\n",
    "D  0  1  1  0\n",
    "```"
   ]
  },
  {
   "cell_type": "markdown",
   "metadata": {},
   "source": [
    "How big are these matrices?\n",
    "\n",
    "If we have a graph with `|V|` vertices, our matrix's size if `|V|^2`"
   ]
  },
  {
   "cell_type": "markdown",
   "metadata": {},
   "source": [
    "Adjacency matrices are not space efficient.\n",
    "\n",
    "In practice, most graphs are **sparse**. They have relatively few edges with respect to the total number of edges there could be.\n",
    "\n",
    "In a sparse graph, most entries will be 0. We are spending most space representing things that aren't there.\n",
    "\n",
    "A better idea is to only store the edges that exist."
   ]
  },
  {
   "cell_type": "markdown",
   "metadata": {},
   "source": [
    "# Adjacency List\n",
    "\n",
    "For every vertex, keep a list of its neighbors."
   ]
  },
  {
   "cell_type": "code",
   "execution_count": 4,
   "metadata": {},
   "outputs": [
    {
     "name": "stdout",
     "output_type": "stream",
     "text": [
      "['B']\n",
      "['A', 'C', 'D']\n",
      "['B', 'D']\n",
      "['C', 'B']\n"
     ]
    }
   ],
   "source": [
    "class Vertex:\n",
    "    def __init__(self, element):\n",
    "        self.element = element\n",
    "        self.neighbors = []\n",
    "\n",
    "class Graph:\n",
    "    def __init__(self):\n",
    "        self.vertices = []\n",
    "\n",
    "    def add_edge(self, v1, v2):\n",
    "        if v1 not in self.vertices:\n",
    "            self.vertices.append(v1)\n",
    "        if v2 not in self.vertices:\n",
    "            self.vertices.append(v2)\n",
    "        v1.neighbors.append(v2)\n",
    "        v2.neighbors.append(v1)\n",
    "\n",
    "    # Runtime is O(|V|) because we have to iterate over the whole graph\n",
    "    # to find the vertex we are looking for\n",
    "    def get_neighbors(self, value):\n",
    "        for vertex in self.vertices: \n",
    "            if vertex.element == value:\n",
    "                return [v.element for v in vertex.neighbors]\n",
    "\n",
    "g = Graph()\n",
    "a = Vertex('A')\n",
    "b = Vertex('B')\n",
    "c = Vertex('C')\n",
    "d = Vertex('D')\n",
    "#e = Vertex('E')\n",
    "\n",
    "g.add_edge(a,b)\n",
    "g.add_edge(b,c)\n",
    "g.add_edge(c,d)\n",
    "g.add_edge(d,b)\n",
    "#g.add_edge(d,e)\n",
    "\n",
    "print(g.get_neighbors('A'))\n",
    "print(g.get_neighbors('B'))\n",
    "print(g.get_neighbors('C'))\n",
    "print(g.get_neighbors('D'))"
   ]
  },
  {
   "cell_type": "markdown",
   "metadata": {},
   "source": [
    "We can do better! We want to be able to look up the neighbors for some vertex. Use a dictionary!!\n",
    "\n"
   ]
  },
  {
   "cell_type": "code",
   "execution_count": 5,
   "metadata": {},
   "outputs": [
    {
     "name": "stdout",
     "output_type": "stream",
     "text": [
      "['A', 'C', 'D']\n"
     ]
    }
   ],
   "source": [
    "graph = {\n",
    "    'A': ['B'],\n",
    "    'B': ['A', 'C', 'D'],\n",
    "    'C': ['B', 'D'],\n",
    "    'D': ['C', 'B']\n",
    "}\n",
    "\n",
    "neighbors = graph['B'] # O(1)\n",
    "print(neighbors)"
   ]
  },
  {
   "cell_type": "markdown",
   "metadata": {},
   "source": [
    "# Graph Exploration\n",
    "\n",
    "Just like we can traverse Tree, we can also explore graphs.\n",
    "\n",
    "Two algorithms:\n",
    "- Breadth First Search\n",
    "- Depth First Search\n",
    "\n"
   ]
  },
  {
   "cell_type": "markdown",
   "metadata": {},
   "source": [
    "# Breadth First Search\n",
    "\n",
    "<br>\n",
    "<img src=\"images/06-BFS.gif\" width=\"30%\"/>\n",
    "<br>"
   ]
  },
  {
   "cell_type": "markdown",
   "metadata": {},
   "source": [
    "Depth First Search\n",
    "\n",
    "<br>\n",
    "<img src=\"images/05-DFS.gif\" width=\"30%\"/>\n",
    "<br>"
   ]
  },
  {
   "cell_type": "markdown",
   "metadata": {},
   "source": [
    "## Max Clique\n",
    "\n",
    "There are some graph algorithms that are not efficient, e.g, have exponential runtimes.\n",
    "\n",
    "$O(2^n)$"
   ]
  },
  {
   "cell_type": "markdown",
   "metadata": {},
   "source": [
    "A clique is a set of vertices that are competely connected. That is, there is an edge between every pair.\n",
    "\n",
    "Finding cliques in graphs is a very hard problem."
   ]
  }
 ],
 "metadata": {
  "interpreter": {
   "hash": "aee8b7b246df8f9039afb4144a1f6fd8d2ca17a180786b69acc140d282b71a49"
  },
  "kernelspec": {
   "display_name": "Python 3.9.6 64-bit",
   "language": "python",
   "name": "python3"
  },
  "language_info": {
   "codemirror_mode": {
    "name": "ipython",
    "version": 3
   },
   "file_extension": ".py",
   "mimetype": "text/x-python",
   "name": "python",
   "nbconvert_exporter": "python",
   "pygments_lexer": "ipython3",
   "version": "3.9.6"
  },
  "orig_nbformat": 4
 },
 "nbformat": 4,
 "nbformat_minor": 2
}
