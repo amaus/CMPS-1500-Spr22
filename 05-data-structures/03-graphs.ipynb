{
 "cells": [
  {
   "cell_type": "markdown",
   "metadata": {},
   "source": [
    "# Graphs!\n",
    "\n",
    "A graph is our most general linked data structure.\n",
    "\n",
    "Graphs are a set of vertices connected by edges.\n",
    "\n"
   ]
  },
  {
   "cell_type": "markdown",
   "metadata": {},
   "source": [
    "<br>\n",
    "<img src=\"images/01-graph.png\" width=\"50%\"/>\n",
    "<br>"
   ]
  },
  {
   "cell_type": "markdown",
   "metadata": {},
   "source": [
    "## Application\n",
    "\n",
    "Computer Networks:\n",
    "\n",
    "<br>\n",
    "<img src=\"images/02-network.png\" width=\"50%\"/>\n",
    "<br>"
   ]
  },
  {
   "cell_type": "markdown",
   "metadata": {},
   "source": [
    "The internet, curtesy of [The Opte Project](https://www.researchgate.net/figure/Example-of-large-and-complex-networks-Visualization-of-the-Internet-graph-by-the-Opte_fig2_325794369):\n",
    "\n",
    "<br>\n",
    "<img src=\"images/03-internet.jpg\" width=\"50%\"/>\n",
    "<br>"
   ]
  },
  {
   "cell_type": "markdown",
   "metadata": {},
   "source": [
    "High School Romantic Relationships\n",
    "\n",
    "<br>\n",
    "<img src=\"images/04-relationships.png\" width=\"75%\"/>\n",
    "<br>"
   ]
  },
  {
   "cell_type": "markdown",
   "metadata": {},
   "source": [
    "Other applications:\n",
    "\n",
    "- Route Planning\n",
    "- Social Networks\n",
    "- Cellular Processes/Biomolecular Interations\n",
    "- Public Transit\n",
    "- Advertising Related Products\n",
    "- Disease Spreading/contact tracing\n",
    "- Supply Chains\n",
    "\n",
    "Any time that we want to study some set of objects and the relationships between them, graphs are useful."
   ]
  },
  {
   "cell_type": "markdown",
   "metadata": {},
   "source": [
    "## Graph Representations\n",
    "\n",
    "The simplest way is to create a table of the edges in a graph.\n",
    "\n",
    "<br>\n",
    "<img src=\"images/01-graph.png\" width=\"50%\"/>\n",
    "<br>\n",
    "\n",
    "\n"
   ]
  },
  {
   "cell_type": "markdown",
   "metadata": {},
   "source": [
    "For the directed graph above:\n",
    "\n",
    "```\n",
    "   A  B  C  D\n",
    "A  0  1  0  0\n",
    "B  0  0  1  0\n",
    "C  0  0  0  1\n",
    "D  0  1  0  0\n",
    "```"
   ]
  },
  {
   "cell_type": "markdown",
   "metadata": {},
   "source": [
    "This is known as **adjacency matrix** representation. Not easy to read as human, but easy to process as computer."
   ]
  },
  {
   "cell_type": "markdown",
   "metadata": {},
   "source": [
    "```\n",
    "   A  B  C  D\n",
    "A  0  1  0  0\n",
    "B  1  0  1  1\n",
    "C  0  1  0  1\n",
    "D  0  1  1  0\n",
    "```"
   ]
  },
  {
   "cell_type": "markdown",
   "metadata": {},
   "source": [
    "How big are these matrices?\n",
    "\n",
    "If we have a graph with `|V|` vertices, our matrix's size if `|V|^2`"
   ]
  }
 ],
 "metadata": {
  "language_info": {
   "name": "python"
  },
  "orig_nbformat": 4
 },
 "nbformat": 4,
 "nbformat_minor": 2
}
