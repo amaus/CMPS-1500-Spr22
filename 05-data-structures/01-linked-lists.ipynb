{
 "cells": [
  {
   "cell_type": "markdown",
   "metadata": {},
   "source": [
    "# Data Structures\n",
    "\n",
    "**Data Structures** allow us to store and organize data in a way that allows us to process it efficiently.\n",
    "\n",
    "We want to build up a mental toolbox of data structures that we can apply to solve our problems. We want to be able to pick the right data structure for any given job.\n",
    "\n",
    "Different Structures have different strengths and weaknesses. They have different runtimes for their operations. \n",
    "\n",
    "When thinking about a program, we consider the operations we need to perform and pick the data structures that supports those operations most efficiently.\n",
    "\n",
    "All data structures have a handful of common operations:\n",
    "- Add an element\n",
    "- Remove an element\n",
    "- Access into the data structure\n",
    "- Search for an element\n",
    "- etc..\n",
    "\n",
    "There are many types of data structures:\n",
    "- arrays\n",
    "- dictionaries\n",
    "- sets\n",
    "- linked lists\n",
    "- trees\n",
    "- graphs\n",
    "- stacks\n",
    "- queues"
   ]
  },
  {
   "cell_type": "markdown",
   "metadata": {},
   "source": []
  }
 ],
 "metadata": {
  "language_info": {
   "name": "python"
  },
  "orig_nbformat": 4
 },
 "nbformat": 4,
 "nbformat_minor": 2
}
