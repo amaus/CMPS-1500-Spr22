{
 "cells": [
  {
   "cell_type": "markdown",
   "metadata": {},
   "source": [
    "# Trees\n",
    "\n",
    "Trees are one of the most data structures in all of computer science.\n",
    "\n",
    "They allows easily and efficiently store and search for data.\n",
    "\n",
    "They also beautifully illustrate the behavior of algorithms and they can allow us to elegantly and rigorously analyze the behavior and runtime of algorithms.\n",
    "\n",
    "A **Tree** is a linked data structure consisting of nodes which contain elements and references to 0 or more children."
   ]
  },
  {
   "cell_type": "markdown",
   "metadata": {},
   "source": [
    "```\n",
    "          8\n",
    "        /   \\\n",
    "       3     17\n",
    "      / \\   /  \\\n",
    "     0   5 9    21\n",
    "```\n",
    "\n",
    "The **root** is at the top of the tree. Every node has 0 or more children. Nodes with 0 or more children are **leaves**.\n",
    "\n",
    "The **height** of a tree is the number of levels in a tree."
   ]
  },
  {
   "cell_type": "markdown",
   "metadata": {},
   "source": [
    "The height of a tree is usually much less than the number of nodes in the tree.\n",
    "\n",
    "The above example tree is **binary tree** because every node can have at most two branches.\n",
    "\n",
    "In a binary tree, with 3 levels, we can store 7 elements.\n",
    "\n",
    "With 4 levels, we can store 15 elements.\n",
    "\n",
    "With 5 levels, we can store 31 elements.\n",
    "\n",
    "On each level $L$, we can $2^L$ elements:\n",
    "\n",
    "```\n",
    "Level L | # elements\n",
    "------------------\n",
    "    0   |    1\n",
    "    1   |    2\n",
    "    2   |    4\n",
    "    3   |    8\n",
    "    4   |    16\n",
    "```\n",
    "\n",
    "Over the whole tree with $L$ levels, we can store $2^L - 1$ elements\n",
    "\n",
    "Eg, with 5 levels, we can store $2^5 - 1 = 32 - 1 = 31$ elements\n",
    "\n",
    "```\n",
    "# Levels | Max Size of Tree\n",
    "---------------------------\n",
    "    0    |       0\n",
    "    1    |       1\n",
    "    2    |       3\n",
    "    3    |       7\n",
    "    4    |       15\n",
    "    5    |       31\n",
    "```\n",
    "\n",
    "Question: If we have $N$ elements that we want to store, how many levels do we need?\n",
    "\n",
    "Since the number of elements we can store in a tree with L levels is exponential on the powers of 2, then the inverse of this, the number of levels needed to store N elements is logarithmic.\n",
    "\n",
    "To store $N$ elements in a binary tree, we need $O(log_2 N)$ levels to that tree.\n",
    "\n",
    "**The heights on our trees are logarithmic on the number of elements in this.**"
   ]
  }
 ],
 "metadata": {
  "language_info": {
   "name": "python"
  },
  "orig_nbformat": 4
 },
 "nbformat": 4,
 "nbformat_minor": 2
}
