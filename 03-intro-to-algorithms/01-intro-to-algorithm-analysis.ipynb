{
 "cells": [
  {
   "cell_type": "markdown",
   "metadata": {},
   "source": [
    "# Introduction to Algorithm Analysis\n",
    "\n"
   ]
  },
  {
   "cell_type": "markdown",
   "metadata": {},
   "source": [
    "The Fibonacci Sequence:\n",
    "\n",
    "```\n",
    "Fib Seq: 0 1 1 2 3 5 8 13 21 34...\n",
    "Indices: 0 1 2 3 4 5 6 7  8  9...\n",
    "```\n",
    "\n",
    "The express this mathematically:\n",
    "\n",
    "```\n",
    "F(n) =      0           if n == 0\n",
    "            1           if n == 1\n",
    "     F(n-1) + F(n-2)    otherwise\n",
    "```\n",
    "\n",
    "Generating this sequence:\n",
    "\n",
    "One way is to use a loop, continuing to sum previous terms until we get to the term we want.\n",
    "\n",
    "A second want is to use recursion. (haven't covered yet, but will fully explore soon)\n",
    "\n"
   ]
  },
  {
   "cell_type": "code",
   "execution_count": 1,
   "metadata": {},
   "outputs": [
    {
     "name": "stdout",
     "output_type": "stream",
     "text": [
      "F(10) = 55\n"
     ]
    }
   ],
   "source": [
    "def fib_iterative(n):\n",
    "    term1 = 0\n",
    "    term2 = 1\n",
    "    if(n<=1):\n",
    "        return n\n",
    "    for i in range(n-1):\n",
    "        next_term = term1 + term2\n",
    "        term1 = term2\n",
    "        term2 = next_term\n",
    "    return next_term\n",
    "\n",
    "n=10\n",
    "print(\"F({}) = {}\".format( n, fib_iterative(n)))"
   ]
  },
  {
   "cell_type": "code",
   "execution_count": 19,
   "metadata": {},
   "outputs": [
    {
     "name": "stdout",
     "output_type": "stream",
     "text": [
      "F(42) = 267914296\n"
     ]
    }
   ],
   "source": [
    "def fib_recursive(n):\n",
    "    if(n <= 1):\n",
    "        return n\n",
    "    return fib_recursive(n-1) + fib_recursive(n-2)\n",
    "\n",
    "#n=40  took 38.1s\n",
    "#n=41  took 63.1s\n",
    "n=42 \n",
    "print(\"F({}) = {}\".format( n, fib_recursive(n)))"
   ]
  },
  {
   "cell_type": "markdown",
   "metadata": {},
   "source": [
    "The iterative solution is much faster, much more efficient, than the recursive solution.\n",
    "\n",
    "The iterative solution can calculate much larger values. It is more powerful than the recursive solution.\n",
    "\n",
    "## Why is the recusive solution so slow?\n",
    "\n",
    "The recursive solution is redoing alot of work.\n",
    "\n",
    "```\n",
    "            F(5) \n",
    "        /            \\\n",
    "    F(3)             F(4)\n",
    " /       \\       /       \\\n",
    "F(1)   F(2)    F(2)      F(3)\n",
    "      /    \\   /   \\     /   \\\n",
    "    F(0) F(1) F(0) F(1) F(1)  F(2)\n",
    "                            /     \\\n",
    "                           F(0) F(1)              \n",
    "```\n",
    "\n",
    "The recursive solution calculates fibonacci numbers many times when we only need to calculate them once.\n",
    "\n",
    "The number of calls grows exponentionally. From F(5) to F(6) we need roughly double the number of function calls.\n"
   ]
  },
  {
   "cell_type": "markdown",
   "metadata": {},
   "source": [
    "## The importance of algorithm analysis\n",
    "\n",
    "The difference between efficient and inefficient algorithms are less or more powerful programs and the separation between tractable and intractable problems.\n",
    "\n"
   ]
  },
  {
   "cell_type": "markdown",
   "metadata": {},
   "source": [
    "# How to Analyze Algorithms\n",
    "\n",
    "Speaking generally, we want to analyze the runtime of our algorithms.\n",
    "\n",
    "Specifically, we want to know how the runtime grows as we increase the size of the problem we want to solve.\n",
    "\n",
    "In our analysis, while we talk about \"runtime\", literal time is not a good metric for us.\n",
    "\n",
    "Different computers have different hardware and will run the same programs as different speeds.\n",
    "\n",
    "What can we do instead?\n",
    "\n",
    "Every algorithm will require some number of operations to execute.\n",
    "\n",
    "**To analyze an algorithm, we are concerned with how to number of operations an algorithm will execute grows as we increase the size of the problem being solved.**"
   ]
  },
  {
   "cell_type": "markdown",
   "metadata": {},
   "source": [
    "## First Example: Linear Search\n",
    "\n",
    "Suppose we have a list of numbers. We want to know is some particular number is in that list. If so, return True, otherwise return False.\n",
    "\n",
    "`[2 49 3 5 234 985 1 7 90]`\n",
    "\n",
    "Is 1 in this list?\n",
    "\n",
    "We can check element by element to see if any of them are 1."
   ]
  },
  {
   "cell_type": "code",
   "execution_count": 3,
   "metadata": {},
   "outputs": [
    {
     "name": "stdout",
     "output_type": "stream",
     "text": [
      "False\n"
     ]
    }
   ],
   "source": [
    "def linear_search(lst, key):\n",
    "    for element in lst:\n",
    "        if element == key:\n",
    "            return True\n",
    "    return False\n",
    "\n",
    "l = [2, 49, 3, 5, 234, 985, 1, 7, 90]\n",
    "print(linear_search(l, 6))"
   ]
  },
  {
   "cell_type": "markdown",
   "metadata": {},
   "source": [
    "We want to count up the operations required.\n",
    "\n",
    "What is an operation?\n",
    "\n",
    "An operation is any simple instruction:\n",
    "- arithmetic instruction\n",
    "- comparison\n",
    "- variable assignments\n",
    "- return statements\n",
    "\n",
    "We also assume that every operation takes the same amount of time.\n",
    "\n",
    "For our analysis, we will count up the number of operations in the worst case of executions (taking the longest time). This allows us to provide strong guarantees on the runtimes of our programs."
   ]
  },
  {
   "cell_type": "code",
   "execution_count": null,
   "metadata": {},
   "outputs": [],
   "source": [
    "def linear_search(lst, key):  # num times executed\n",
    "    for element in lst:       #        n\n",
    "        if element == key:    #        n\n",
    "            return True       #        0, assuming worst case, key NOT in list\n",
    "    return False              #        1"
   ]
  },
  {
   "cell_type": "markdown",
   "metadata": {},
   "source": [
    "The total number of operations is:\n",
    "\n",
    "`2n + 1`\n",
    "\n",
    "We have a function that how the number of operations grows as the size of the input list grows."
   ]
  },
  {
   "cell_type": "markdown",
   "metadata": {},
   "source": [
    "# Big-Oh Notation\n",
    "\n",
    "We use big-oh to express our worst case runtimes.\n",
    "\n",
    "In our analysis we are concerned with growth rates. What is the overall shape of the function of the runtime?\n",
    "\n",
    "If linear? or quadratic?\n",
    "\n",
    "There is a huge difference between them.\n",
    "\n",
    "```\n",
    " n      n^2\n",
    " 1      1\n",
    " 2      4\n",
    " 3      9\n",
    " ...\n",
    " 10     100\n",
    " 100    10000\n",
    "```\n",
    "\n",
    "Quadratic functions grow much faster than linear functions. Any linear function will be a line whereas every quadratic function will be a parabola.\n",
    "\n",
    "In our analysis, we want to know if the runtime is linear or not, or if it is quadratic or some other class of functions.\n",
    "\n",
    "With that in mind, when we express runtimes using big-oh notation, we can ignore the details:\n",
    "\n",
    "Linear Search is `O(n)`. We don't say that is it `O(2n+1)`. Constant factors and terms don't change the fact that the function is a line.\n",
    "\n"
   ]
  },
  {
   "cell_type": "markdown",
   "metadata": {},
   "source": [
    "Common runtimes:\n",
    "- O(1): constant time\n",
    "- O(lg n): logarthmic time\n",
    "- O(n): linear time\n",
    "- O(n log n): \"n log n\" linearithmic\n",
    "- O(n^2): quadratic time\n",
    "- O(2^n): exponential time"
   ]
  },
  {
   "cell_type": "markdown",
   "metadata": {},
   "source": [
    "<br>\n",
    "<img src=\"images/01-runtimes.png\" width=\"400\">\n",
    "<br> "
   ]
  },
  {
   "cell_type": "markdown",
   "metadata": {},
   "source": [
    "The general form of Big-Oh is `O(f(n))` where `f(n)` is a function that expresses an upper bound of the runtime of an algorithm where `n` is the problem size.\n",
    "\n",
    "```\n",
    "problem size |  O(n)  |  O(n^2)\n",
    "-------------------------------\n",
    "       1     |    1   |    1\n",
    "      10     |   10   |   100\n",
    "     100     |  100   |  10000\n",
    "    1000     | 1000   | 1000000\n",
    "```"
   ]
  },
  {
   "cell_type": "markdown",
   "metadata": {},
   "source": [
    "Second Example: Binary Search\n",
    "\n",
    "Given a list of sorted values, return True if some particular value is in the list, False otherwise.\n",
    "\n",
    "```\n",
    "List: [2, 3, 5, 7, 11, 13, 17, 19]\n",
    "Key: 18\n",
    "```\n",
    "\n",
    "We start by checking the middle element.\n",
    "\n",
    "Is that element the thing we are looking for, or is our key less than or greater than it?\n",
    "\n",
    "The middle element is 7.\n",
    "\n",
    "7 != 18, 18 > 7\n",
    "\n",
    "18 must be to the right of 7.\n",
    "\n",
    "We now search in: [11, 13, 17, 19]\n",
    "\n",
    "Middle: 13\n",
    "\n",
    "18>13, look to the right: [17, 19]\n",
    "\n",
    "Middle: 17\n",
    "\n",
    "18 > 17, look to the right: [19]\n",
    "\n",
    "middle 19.\n",
    "\n",
    "18 < 19, look to the left: []\n",
    "\n",
    "empty list, we're done\n",
    "\n",
    "## Analysis\n",
    "\n",
    "We can analyze binary search without any code!\n",
    "\n",
    "Key Idea: The number of operations is proportional to the number of times we can eliminate half of the list before we get down to a list of a single element.\n",
    "\n",
    "Analogously, we were to start with a single of a single element, how many times would be have to double the size of the list before we to a list whose size is >= the input list?\n",
    "\n",
    "If the input list holds 8 elements, starting from a list of size one, we need to double the size 3 times:\n",
    "\n",
    "$1 * 2 * 2 * 2 = 8$\n",
    "\n",
    "$2^3 = 8$\n",
    "\n",
    "We have 3 doublings to get to 8.\n",
    "\n",
    "In general, we want to solve:\n",
    "\n",
    "$2^d = N$\n",
    "\n",
    "$N$ is the size of the input list. $d$ is the number of doublings (or halvings)."
   ]
  },
  {
   "cell_type": "markdown",
   "metadata": {},
   "source": [
    "To solve for $d$, we take the log: $log_2(N)$\n",
    "\n",
    "Given $N$, we can $log_2(N)$ tells us how many times we can eliminate half of the input list until we get down to a list of a single element (that element is either what we are looking for or it is not and we are done.)\n",
    "\n",
    "Binary Search is $O(log_2(N))$"
   ]
  },
  {
   "cell_type": "markdown",
   "metadata": {},
   "source": [
    "**A rule of thumb**\n",
    "\n",
    "In general, if you can eliminate hald of your problem size with a constant time operation, the runtime of your algorithm is likely $O(lg(n))$"
   ]
  }
 ],
 "metadata": {
  "interpreter": {
   "hash": "aee8b7b246df8f9039afb4144a1f6fd8d2ca17a180786b69acc140d282b71a49"
  },
  "kernelspec": {
   "display_name": "Python 3.9.6 64-bit",
   "language": "python",
   "name": "python3"
  },
  "language_info": {
   "codemirror_mode": {
    "name": "ipython",
    "version": 3
   },
   "file_extension": ".py",
   "mimetype": "text/x-python",
   "name": "python",
   "nbconvert_exporter": "python",
   "pygments_lexer": "ipython3",
   "version": "3.9.6"
  },
  "orig_nbformat": 4
 },
 "nbformat": 4,
 "nbformat_minor": 2
}
