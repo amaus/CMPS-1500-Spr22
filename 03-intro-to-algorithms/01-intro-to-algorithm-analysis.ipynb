{
 "cells": [
  {
   "cell_type": "markdown",
   "metadata": {},
   "source": [
    "# Introduction to Algorithm Analysis\n",
    "\n"
   ]
  },
  {
   "cell_type": "markdown",
   "metadata": {},
   "source": [
    "The Fibonacci Sequence:\n",
    "\n",
    "```\n",
    "Fib Seq: 0 1 1 2 3 5 8 13 21 34...\n",
    "Indices: 0 1 2 3 4 5 6 7  8  9...\n",
    "```\n",
    "\n",
    "The express this mathematically:\n",
    "\n",
    "```\n",
    "F(n) =      0           if n == 0\n",
    "            1           if n == 1\n",
    "     F(n-1) + F(n-2)    otherwise\n",
    "```\n",
    "\n",
    "Generating this sequence:\n",
    "\n",
    "One way is to use a loop, continuing to sum previous terms until we get to the term we want.\n",
    "\n",
    "A second want is to use recursion. (haven't covered yet, but will fully explore soon)\n",
    "\n"
   ]
  },
  {
   "cell_type": "code",
   "execution_count": 1,
   "metadata": {},
   "outputs": [
    {
     "name": "stdout",
     "output_type": "stream",
     "text": [
      "F(10) = 55\n"
     ]
    }
   ],
   "source": [
    "def fib_iterative(n):\n",
    "    term1 = 0\n",
    "    term2 = 1\n",
    "    if(n<=1):\n",
    "        return n\n",
    "    for i in range(n-1):\n",
    "        next_term = term1 + term2\n",
    "        term1 = term2\n",
    "        term2 = next_term\n",
    "    return next_term\n",
    "\n",
    "n=10\n",
    "print(\"F({}) = {}\".format( n, fib_iterative(n)))"
   ]
  },
  {
   "cell_type": "code",
   "execution_count": 19,
   "metadata": {},
   "outputs": [
    {
     "name": "stdout",
     "output_type": "stream",
     "text": [
      "F(42) = 267914296\n"
     ]
    }
   ],
   "source": [
    "def fib_recursive(n):\n",
    "    if(n <= 1):\n",
    "        return n\n",
    "    return fib_recursive(n-1) + fib_recursive(n-2)\n",
    "\n",
    "#n=40  took 38.1s\n",
    "#n=41  took 63.1s\n",
    "n=42 \n",
    "print(\"F({}) = {}\".format( n, fib_recursive(n)))"
   ]
  },
  {
   "cell_type": "markdown",
   "metadata": {},
   "source": [
    "The iterative solution is much faster, much more efficient, than the recursive solution.\n",
    "\n",
    "The iterative solution can calculate much larger values. It is more powerful than the recursive solution.\n",
    "\n",
    "## Why is the recusive solution so slow?\n",
    "\n",
    "The recursive solution is redoing alot of work.\n",
    "\n",
    "```\n",
    "            F(5) \n",
    "        /            \\\n",
    "    F(3)             F(4)\n",
    " /       \\       /       \\\n",
    "F(1)   F(2)    F(2)      F(3)\n",
    "      /    \\   /   \\     /   \\\n",
    "    F(0) F(1) F(0) F(1) F(1)  F(2)\n",
    "                            /     \\\n",
    "                           F(0) F(1)              \n",
    "```\n",
    "\n",
    "The recursive solution calculates fibonacci numbers many times when we only need to calculate them once.\n",
    "\n",
    "The number of calls grows exponentionally. From F(5) to F(6) we need roughly double the number of function calls.\n"
   ]
  },
  {
   "cell_type": "markdown",
   "metadata": {},
   "source": [
    "## The importance of algorithm analysis\n",
    "\n",
    "The difference between efficient and inefficient algorithms are less or more powerful programs and the separation between tractable and intractable problems.\n",
    "\n"
   ]
  },
  {
   "cell_type": "markdown",
   "metadata": {},
   "source": [
    "# How to Analyze Algorithms\n",
    "\n",
    "Speaking generally, we want to analyze the runtime of our algorithms.\n",
    "\n",
    "Specifically, we want to know how the runtime grows as we increase the size of the problem we want to solve.\n",
    "\n",
    "In our analysis, while we talk about \"runtime\", literal time is not a good metric for us.\n",
    "\n",
    "Different computers have different hardware and will run the same programs as different speeds.\n",
    "\n",
    "What can we do instead?\n",
    "\n",
    "Every algorithm will require some number of operations to execute.\n",
    "\n",
    "**To analyze an algorithm, we are concerned with how to number of operations an algorithm will execute grows as we increase the size of the problem being solved.**"
   ]
  },
  {
   "cell_type": "markdown",
   "metadata": {},
   "source": [
    "## First Example: Linear Search\n",
    "\n",
    "Suppose we have a list of numbers. We want to know is some particular number is in that list. If so, return True, otherwise return False.\n",
    "\n",
    "`[2 49 3 5 234 985 1 7 90]`\n",
    "\n",
    "Is 1 in this list?\n",
    "\n",
    "We can check element by element to see if any of them are 1."
   ]
  },
  {
   "cell_type": "code",
   "execution_count": 3,
   "metadata": {},
   "outputs": [
    {
     "name": "stdout",
     "output_type": "stream",
     "text": [
      "False\n"
     ]
    }
   ],
   "source": [
    "def linear_search(lst, key):\n",
    "    for element in lst:\n",
    "        if element == key:\n",
    "            return True\n",
    "    return False\n",
    "\n",
    "l = [2, 49, 3, 5, 234, 985, 1, 7, 90]\n",
    "print(linear_search(l, 6))"
   ]
  },
  {
   "cell_type": "markdown",
   "metadata": {},
   "source": [
    "We want to count up the operations required.\n",
    "\n",
    "What is an operation?\n",
    "\n",
    "An operation is any simple instruction:\n",
    "- arithmetic instruction\n",
    "- comparison\n",
    "- variable assignments\n",
    "- return statements\n",
    "\n",
    "We also assume that every operation takes the same amount of time.\n",
    "\n",
    "For our analysis, we will count up the number of operations in the worst case of executions (taking the longest time). This allows us to provide strong guarantees on the runtimes of our programs."
   ]
  },
  {
   "cell_type": "code",
   "execution_count": null,
   "metadata": {},
   "outputs": [],
   "source": [
    "def linear_search(lst, key):  # num times executed\n",
    "    for element in lst:       #        n\n",
    "        if element == key:    #        n\n",
    "            return True       #        0, assuming worst case, key NOT in list\n",
    "    return False              #        1"
   ]
  },
  {
   "cell_type": "markdown",
   "metadata": {},
   "source": [
    "The total number of operations is:\n",
    "\n",
    "`2n + 1`\n",
    "\n",
    "We have a function that how the number of operations grows as the size of the input list grows."
   ]
  },
  {
   "cell_type": "markdown",
   "metadata": {},
   "source": [
    "# Big-Oh Notation\n",
    "\n",
    "We use big-oh to express our worst case runtimes.\n",
    "\n",
    "In our analysis we are concerned with growth rates. What is the overall shape of the function of the runtime?\n",
    "\n",
    "If linear? or quadratic?\n",
    "\n",
    "There is a huge difference between them.\n",
    "\n",
    "```\n",
    " n      n^2\n",
    " 1      1\n",
    " 2      4\n",
    " 3      9\n",
    " ...\n",
    " 10     100\n",
    " 100    10000\n",
    "```\n",
    "\n",
    "Quadratic functions grow much faster than linear functions. Any linear function will be a line whereas every quadratic function will be a parabola.\n",
    "\n",
    "In our analysis, we want to know if the runtime is linear or not, or if it is quadratic or some other class of functions.\n",
    "\n",
    "With that in mind, when we express runtimes using big-oh notation, we can ignore the details:\n",
    "\n",
    "Linear Search is `O(n)`. We don't say that is it `O(2n+1)`. Constant factors and terms don't change the fact that the function is a line.\n",
    "\n"
   ]
  },
  {
   "cell_type": "markdown",
   "metadata": {},
   "source": [
    "Common runtimes:\n",
    "- O(1): constant time\n",
    "- O(lg n): logarthmic time\n",
    "- O(n): linear time\n",
    "- O(n log n): \"n log n\" linearithmic\n",
    "- O(n^2): quadratic time\n",
    "- O(2^n): exponential time"
   ]
  }
 ],
 "metadata": {
  "interpreter": {
   "hash": "aee8b7b246df8f9039afb4144a1f6fd8d2ca17a180786b69acc140d282b71a49"
  },
  "kernelspec": {
   "display_name": "Python 3.9.6 64-bit",
   "language": "python",
   "name": "python3"
  },
  "language_info": {
   "codemirror_mode": {
    "name": "ipython",
    "version": 3
   },
   "file_extension": ".py",
   "mimetype": "text/x-python",
   "name": "python",
   "nbconvert_exporter": "python",
   "pygments_lexer": "ipython3",
   "version": "3.9.6"
  },
  "orig_nbformat": 4
 },
 "nbformat": 4,
 "nbformat_minor": 2
}
