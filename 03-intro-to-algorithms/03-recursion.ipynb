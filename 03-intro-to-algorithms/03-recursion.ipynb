{
 "cells": [
  {
   "cell_type": "markdown",
   "metadata": {},
   "source": [
    "# Recursion\n",
    "\n",
    "Recursion is when a function calls on itself.\n",
    "\n",
    "Recursion is very naturally suited to some problems and leads to very elegant code.\n",
    "\n",
    "Sometimes its easier to implement a recursive solution than an iterative one.\n",
    "\n",
    "A simple example is Factorial\n",
    "\n",
    "```\n",
    "Factorial(5) = 5 * 4 * 3 * 2 * 1\n",
    "Factorial(5) = 5 * Factorial(4)\n",
    "\n",
    "In general:\n",
    "Factorial(N) = N * Factorial(N-1)\n",
    "```\n"
   ]
  },
  {
   "cell_type": "code",
   "execution_count": 1,
   "metadata": {},
   "outputs": [
    {
     "data": {
      "text/plain": [
       "6"
      ]
     },
     "execution_count": 1,
     "metadata": {},
     "output_type": "execute_result"
    }
   ],
   "source": [
    "def factorial(n):\n",
    "    if(n == 1):\n",
    "        return 1\n",
    "    return n*factorial(n-1)\n",
    "\n",
    "factorial(3)"
   ]
  },
  {
   "cell_type": "markdown",
   "metadata": {},
   "source": [
    "Recursive algorithms require the following two parts:\n",
    "\n",
    "1) a **base case**\n",
    "2) a **recursive step**\n",
    "\n",
    "The **base case** is a trivial case where we can automatically return the answer without any more computation. It is the stoppping point ffor recursion.\n",
    "\n",
    "The **recursive step** is where the function calls on itself.\n",
    "\n",
    "The recursive step must always work towards the base case. If the base case is never met, infinite recursion will occur.\n",
    "\n"
   ]
  },
  {
   "cell_type": "markdown",
   "metadata": {},
   "source": [
    "## How function calls work\n",
    "\n",
    "When a program runs, the computer must keep track of all functions as they execute, specifically all local information to them (local variables) and where they return to whenever they finish.\n",
    "\n",
    "This is tracked in the **function call stack**.\n",
    "\n",
    "A **stack** is a fundamental data structure that operates like a stack of plates or papers. When we add something to the stack, we put on top and when we remove we always remove the top item.\n",
    "\n",
    "When a function is executed, a **function frame** is \"pushed\" onto the stack. The **function frame** contains all local variables for the function.\n",
    "\n",
    "Example:\n",
    "\n",
    "`main()` -> `dog()` -> `cat()` -> `rat()`\n",
    "\n",
    "```\n",
    "[rat()]\n",
    "[cat()]\n",
    "[dog()]\n",
    "[main()]\n",
    "```"
   ]
  },
  {
   "cell_type": "markdown",
   "metadata": {},
   "source": [
    "When `rat()` returns, it is \"popped\" off of the stack.\n",
    "\n",
    "```\n",
    "[cat()]\n",
    "[dog()]\n",
    "[main()]\n",
    "```"
   ]
  },
  {
   "cell_type": "markdown",
   "metadata": {},
   "source": [
    "As each function returns, it is in turn popped off of the stack, returning execution to the function below it.\n",
    "\n",
    "When `main()` returns the program is done."
   ]
  },
  {
   "cell_type": "markdown",
   "metadata": {},
   "source": [
    "## Recursive Functions\n",
    "\n",
    "As a recursive function calls on itself, new function frames are added to the stack for each call.\n",
    "\n",
    "Each frame is independent of the others with respect to the local variables.\n",
    "\n",
    "Ever function call gets its own copy of the function's variables.\n",
    "\n",
    "``` python\n",
    "def factorial(n):\n",
    "    if(n == 1):\n",
    "        return 1\n",
    "    return n*factorial(n-1)\n",
    "\n",
    "factorial(3)\n",
    "```\n",
    "\n",
    "Function call stack:\n",
    "\n",
    "```\n",
    "[factorial(1) - n:1, return 1]\n",
    "[factorial(2) - n:2, return 2 * factorial(1)]\n",
    "[factorial(3) - n:3, return 3 * factorial(2)]\n",
    "[main()]\n",
    "```\n",
    "\n",
    "Once the base case is hits, the functions will return to one another all the way back to the original call, calculating the answer as it goes.\n",
    "\n",
    "```\n",
    "1 is returned to factorial(2)\n",
    "2*1 is returned to factorial(3)\n",
    "3*2 returned to main()\n",
    "```"
   ]
  },
  {
   "cell_type": "markdown",
   "metadata": {},
   "source": [
    "# Example Recursive Algorithms\n",
    "\n",
    "## Recursive List Length\n",
    "\n",
    "Calculate the length of a list recursively without using `len(lst)`.\n",
    "\n",
    "The two parts:\n",
    "- The Base Case: An empty list has a length of 0.\n",
    "- The Recursive Step: The length of a non-empty list is 1 + the length everything that follows the first element."
   ]
  },
  {
   "cell_type": "code",
   "execution_count": 4,
   "metadata": {},
   "outputs": [
    {
     "name": "stdout",
     "output_type": "stream",
     "text": [
      "0\n"
     ]
    }
   ],
   "source": [
    "def list_len(lst):\n",
    "    # base case, empty list\n",
    "    if not lst:\n",
    "        return 0\n",
    "    return 1 + list_len(lst[1:])\n",
    "\n",
    "print(list_len([]))"
   ]
  },
  {
   "cell_type": "markdown",
   "metadata": {},
   "source": [
    "## Recursive List Sum\n",
    "\n",
    "Return the sum of all element in a list.\n",
    "\n",
    "Base Case: An empty list has sum of 0\n",
    "\n",
    "Recurisve Step: The sum of a list is `lst[0]` + the sum of everything that follows it."
   ]
  },
  {
   "cell_type": "code",
   "execution_count": 10,
   "metadata": {},
   "outputs": [
    {
     "name": "stdout",
     "output_type": "stream",
     "text": [
      "0\n",
      "1\n",
      "3\n",
      "6\n",
      "10\n"
     ]
    }
   ],
   "source": [
    "def list_sum(lst):\n",
    "    #base case\n",
    "    if not lst:\n",
    "        return 0\n",
    "    return lst[0] + list_sum(lst[1:])\n",
    "\n",
    "print(list_sum([]))\n",
    "print(list_sum([1]))\n",
    "print(list_sum([1,2]))\n",
    "print(list_sum([1,2,3]))\n",
    "print(list_sum([1,2,3,4]))"
   ]
  },
  {
   "cell_type": "markdown",
   "metadata": {},
   "source": [
    "## Binary Search\n",
    "\n",
    "Given a sorted `list` and a `key`, return **True** if that `key` if it is in the `list`, **False** otherwise. \n",
    "\n",
    "`[2, 3, 5, 7, 11, 13, 17, 19]`\n",
    "\n",
    "ALG: Check the middle element. if it is the key, return True. Otherwise, if the key is greater than the middle element, continue the search on the right. Else, continue on the left.\n",
    "\n",
    "The Base Cases:\n",
    "- If the middle element is the key, done, return True\n",
    "- If the list is empty, it doesn't contain the key, return False.\n",
    "\n",
    "The Recursive Step:\n",
    "- Revcursively call binary search on either the left or right halves of the list."
   ]
  },
  {
   "cell_type": "code",
   "execution_count": 9,
   "metadata": {},
   "outputs": [
    {
     "name": "stdout",
     "output_type": "stream",
     "text": [
      "[2, 3, 5, 7, 11, 13, 17, 19]\n",
      "[13, 17, 19]\n",
      "[13]\n",
      "[]\n",
      "12 is in the list? False\n"
     ]
    }
   ],
   "source": [
    "def binary_search(lst, key):\n",
    "    print(lst)\n",
    "    middle_index = len(lst)//2\n",
    "    # Base Cases\n",
    "    if not lst:\n",
    "        return False\n",
    "    if lst[middle_index] == key:\n",
    "        return True\n",
    "    # Recursive Step\n",
    "    if key < lst[middle_index]:\n",
    "        return binary_search(lst[:middle_index], key)\n",
    "    else:\n",
    "        return binary_search(lst[middle_index+1:], key)\n",
    "\n",
    "lst = [2, 3, 5, 7, 11, 13, 17, 19]\n",
    "key = 12\n",
    "print(\"{} is in the list? {}\".format(key, binary_search(lst,key)))"
   ]
  }
 ],
 "metadata": {
  "interpreter": {
   "hash": "aee8b7b246df8f9039afb4144a1f6fd8d2ca17a180786b69acc140d282b71a49"
  },
  "kernelspec": {
   "display_name": "Python 3.9.6 64-bit",
   "language": "python",
   "name": "python3"
  },
  "language_info": {
   "codemirror_mode": {
    "name": "ipython",
    "version": 3
   },
   "file_extension": ".py",
   "mimetype": "text/x-python",
   "name": "python",
   "nbconvert_exporter": "python",
   "pygments_lexer": "ipython3",
   "version": "3.9.6"
  },
  "orig_nbformat": 4
 },
 "nbformat": 4,
 "nbformat_minor": 2
}
