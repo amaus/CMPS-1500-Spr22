{
 "cells": [
  {
   "cell_type": "markdown",
   "metadata": {},
   "source": [
    "# Recursion\n",
    "\n",
    "Recursion is when a function calls on itself.\n",
    "\n",
    "Recursion is very naturally suited to some problems and leads to very elegant code.\n",
    "\n",
    "Sometimes its easier to implement a recursive solution than an iterative one.\n",
    "\n",
    "A simple example is Factorial\n",
    "\n",
    "```\n",
    "Factorial(5) = 5 * 4 * 3 * 2 * 1\n",
    "Factorial(5) = 5 * Factorial(4)\n",
    "\n",
    "In general:\n",
    "Factorial(N) = N * Factorial(N-1)\n",
    "```\n"
   ]
  },
  {
   "cell_type": "code",
   "execution_count": 1,
   "metadata": {},
   "outputs": [
    {
     "data": {
      "text/plain": [
       "6"
      ]
     },
     "execution_count": 1,
     "metadata": {},
     "output_type": "execute_result"
    }
   ],
   "source": [
    "def factorial(n):\n",
    "    if(n == 1):\n",
    "        return 1\n",
    "    return n*factorial(n-1)\n",
    "\n",
    "factorial(3)"
   ]
  }
 ],
 "metadata": {
  "interpreter": {
   "hash": "aee8b7b246df8f9039afb4144a1f6fd8d2ca17a180786b69acc140d282b71a49"
  },
  "kernelspec": {
   "display_name": "Python 3.9.6 64-bit",
   "language": "python",
   "name": "python3"
  },
  "language_info": {
   "codemirror_mode": {
    "name": "ipython",
    "version": 3
   },
   "file_extension": ".py",
   "mimetype": "text/x-python",
   "name": "python",
   "nbconvert_exporter": "python",
   "pygments_lexer": "ipython3",
   "version": "3.9.6"
  },
  "orig_nbformat": 4
 },
 "nbformat": 4,
 "nbformat_minor": 2
}
