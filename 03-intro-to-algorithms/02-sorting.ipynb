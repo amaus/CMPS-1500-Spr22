{
 "cells": [
  {
   "cell_type": "markdown",
   "metadata": {},
   "source": [
    "# Sorting Algorithms\n",
    "\n",
    "Sorting large datasets is crucial for efficient analysis of information.\n",
    "\n",
    "There are many sorting algorithsm:\n",
    "\n",
    "- Selection Sort\n",
    "- Insertion Sort\n",
    "- Bubble Sort\n",
    "- Quick Sort\n",
    "- Tim Sort \n",
    "- Merge Sort \n",
    "\n",
    "We'll step through a couple of them to:\n",
    "\n",
    "1) Get a feel for algorithm design\n",
    "2) practice algorithm analysis\n",
    "\n"
   ]
  },
  {
   "cell_type": "markdown",
   "metadata": {},
   "source": [
    "# Selection Sort\n",
    "\n",
    "The basic idea is to go through the list index by index, selecting for each index, the element that belongs there (and puttting it there!).\n",
    "\n",
    "We start by find the element that belongs at index 0. This is the smallest element in the entire list and we swap it into index 0.\n",
    "\n",
    "For index 1, we want the second smallest element. This will be the smallest element from index 1 to the end (since the smallest element is already in index 0).\n",
    "\n",
    "And so on..."
   ]
  },
  {
   "cell_type": "code",
   "execution_count": null,
   "metadata": {},
   "outputs": [],
   "source": []
  }
 ],
 "metadata": {
  "language_info": {
   "name": "python"
  },
  "orig_nbformat": 4
 },
 "nbformat": 4,
 "nbformat_minor": 2
}
