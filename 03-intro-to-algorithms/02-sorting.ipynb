{
 "cells": [
  {
   "cell_type": "markdown",
   "metadata": {},
   "source": [
    "# Sorting Algorithms\n",
    "\n",
    "Sorting large datasets is crucial for efficient analysis of information.\n",
    "\n",
    "There are many sorting algorithsm:\n",
    "\n",
    "- Selection Sort\n",
    "- Insertion Sort\n",
    "- Bubble Sort\n",
    "- Quick Sort\n",
    "- Tim Sort \n",
    "- Merge Sort \n",
    "\n",
    "We'll step through a couple of them to:\n",
    "\n",
    "1) Get a feel for algorithm design\n",
    "2) practice algorithm analysis\n",
    "\n"
   ]
  },
  {
   "cell_type": "markdown",
   "metadata": {},
   "source": [
    "# Selection Sort\n",
    "\n",
    "The basic idea is to go through the list index by index, selecting for each index, the element that belongs there (and puttting it there!).\n",
    "\n",
    "We start by find the element that belongs at index 0. This is the smallest element in the entire list and we swap it into index 0.\n",
    "\n",
    "For index 1, we want the second smallest element. This will be the smallest element from index 1 to the end (since the smallest element is already in index 0).\n",
    "\n",
    "And so on..."
   ]
  },
  {
   "cell_type": "markdown",
   "metadata": {},
   "source": [
    "Example:\n",
    "\n",
    "```\n",
    "[38, 24, 26, 3, 13]\n",
    " ^           ^\n",
    " c           m\n",
    "\n",
    "[3, 24, 26, 38, 13]\n",
    "    ^           ^\n",
    "    c           m\n",
    "\n",
    "[3, 13, 26, 38, 24]\n",
    "        ^       ^\n",
    "        c       m\n",
    "\n",
    "[3, 13, 24, 38, 26]\n",
    "            ^   ^\n",
    "            c   m\n",
    "\n",
    "[3, 13, 24, 26, 38]\n",
    "```\n",
    "\n"
   ]
  },
  {
   "cell_type": "code",
   "execution_count": 3,
   "metadata": {},
   "outputs": [
    {
     "name": "stdout",
     "output_type": "stream",
     "text": [
      "[38, 24, 26, 3, 13]\n",
      "[3, 13, 24, 26, 38]\n",
      "['d', 'v', 'q', 'cb', 'ca']\n",
      "['ca', 'cb', 'd', 'q', 'v']\n"
     ]
    }
   ],
   "source": [
    "def selection_sort(lst):\n",
    "    for c in range(len(lst) - 1):\n",
    "        # find the minimum element from index c to the end of the list\n",
    "        min_index = c\n",
    "        for i in range(c, len(lst)):\n",
    "            if (lst[i] < lst[min_index]):\n",
    "                min_index = i\n",
    "        # swap element at min_index with the element at c\n",
    "        temp = lst[c]\n",
    "        lst[c] = lst[min_index]\n",
    "        lst[min_index] = temp\n",
    "\n",
    "lst = [38, 24, 26, 3, 13]\n",
    "print(lst)\n",
    "selection_sort(lst)\n",
    "print(lst)\n",
    "\n",
    "lst = [\"d\", \"v\", \"q\", \"cb\", \"ca\"]\n",
    "print(lst)\n",
    "selection_sort(lst)\n",
    "print(lst)\n"
   ]
  },
  {
   "cell_type": "markdown",
   "metadata": {},
   "source": [
    "# Analysis of Selection Sort\n",
    "\n",
    "```python\n",
    "def selection_sort(lst):                    # num times\n",
    "    for c in range(len(lst)):               #               N times\n",
    "        min_index = c                       #    N\n",
    "        for i in range(c, len(lst)):        #               N(N+1)/2 Times\n",
    "            if (lst[i] < lst[min_index]):   #   N(N+1)/2\n",
    "                min_index = i               #   N(N+1)/2\n",
    "        temp = lst[c]                       #    N\n",
    "        lst[c] = lst[min_index]             #    N\n",
    "        lst[min_index] = temp               #    N\n",
    "```"
   ]
  },
  {
   "cell_type": "markdown",
   "metadata": {},
   "source": [
    "The inner for loop executes:\n",
    "\n",
    "```\n",
    "Iteration 1: N\n",
    "Iteration 2: N-1\n",
    "Iteration 3: N-2\n",
    "...\n",
    "Iteration N: 1\n",
    "```\n",
    "\n",
    "In total, the inner loop executes:\n",
    "\n",
    "`1 + 2 + 3 + ... + N` times\n",
    "\n",
    "This is the summation from 1 to N:\n",
    "\n",
    "`S = N*(N+1)/2`\n",
    "\n",
    "The total operations for selection sort is:\n",
    "\n",
    "\n",
    "$4N + 2*N*(N+1)/2$\n",
    "\n",
    "$= 4N + N*(N+1)$\n",
    "\n",
    "$= 4N + N^2 + N$\n",
    "\n",
    "$= 5N + N^2$\n",
    "\n",
    "$= N^2 + 5N$\n",
    "\n",
    "In big oh notation, we drop all constant factors and low order terms:\n",
    "\n",
    "Selection sort is $O(N^2)$\n"
   ]
  }
 ],
 "metadata": {
  "interpreter": {
   "hash": "aee8b7b246df8f9039afb4144a1f6fd8d2ca17a180786b69acc140d282b71a49"
  },
  "kernelspec": {
   "display_name": "Python 3.9.6 64-bit",
   "language": "python",
   "name": "python3"
  },
  "language_info": {
   "codemirror_mode": {
    "name": "ipython",
    "version": 3
   },
   "file_extension": ".py",
   "mimetype": "text/x-python",
   "name": "python",
   "nbconvert_exporter": "python",
   "pygments_lexer": "ipython3",
   "version": "3.9.6"
  },
  "orig_nbformat": 4
 },
 "nbformat": 4,
 "nbformat_minor": 2
}
