{
 "cells": [
  {
   "cell_type": "markdown",
   "metadata": {},
   "source": [
    "# Merge Sort\n",
    "\n",
    "Merge Sort is an efficient sorting algorithm. It is $O(n lg n)$."
   ]
  },
  {
   "cell_type": "markdown",
   "metadata": {},
   "source": [
    "Merge sort is **MUCH** more efficient than any quadratic sorting algorithm.\n",
    "\n",
    "It is optimally efficient. There are and can not be any sorting algorithm which operates via comparing elements whose runtime is better than $O(n lg n)$."
   ]
  },
  {
   "cell_type": "markdown",
   "metadata": {},
   "source": [
    "Merge Sort is an old alogorithm. It was invented by von Neumann in 1945."
   ]
  },
  {
   "cell_type": "markdown",
   "metadata": {},
   "source": [
    "The Idea:\n",
    "\n",
    "Given some list, recursively split it in half until we get down to lists of size 1. A list with a single element is sorted.\n",
    "\n",
    "Then merge the sorted lists back together in the order that we split them in until we get back up to a single sorted list."
   ]
  },
  {
   "cell_type": "markdown",
   "metadata": {},
   "source": [
    "<br>\n",
    "<img src=\"images/02-merge-sort.png\" width=\"500\">\n",
    "<br>"
   ]
  },
  {
   "cell_type": "markdown",
   "metadata": {},
   "source": [
    "<br>\n",
    "<img src=\"images/03-merge-sort.png\" width=\"500\">\n",
    "<br>"
   ]
  },
  {
   "cell_type": "markdown",
   "metadata": {},
   "source": [
    "The efficiency comes from the fact that we can merge two sorted lists with a linear runtime.\n",
    "\n",
    "But first, the overall mergesort algorithm:"
   ]
  },
  {
   "cell_type": "code",
   "execution_count": null,
   "metadata": {},
   "outputs": [],
   "source": [
    "def merge_sort(lst):\n",
    "    if (len(lst) == 1):\n",
    "        return lst\n",
    "    \n",
    "    # recursively apply merge sort each half of the list\n",
    "    middle_index = len(lst)//2\n",
    "    left = merge_sort(lst[:middle_index])\n",
    "    right = merge_sort(lst[middle_index:])\n",
    "\n",
    "    return merge(left, right)"
   ]
  }
 ],
 "metadata": {
  "language_info": {
   "name": "python"
  },
  "orig_nbformat": 4
 },
 "nbformat": 4,
 "nbformat_minor": 2
}
