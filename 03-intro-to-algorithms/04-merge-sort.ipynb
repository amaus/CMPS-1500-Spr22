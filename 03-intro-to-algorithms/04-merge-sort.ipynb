{
 "cells": [
  {
   "cell_type": "markdown",
   "metadata": {},
   "source": [
    "# Merge Sort\n",
    "\n",
    "Merge Sort is an efficient sorting algorithm. It is $O(n lg n)$."
   ]
  },
  {
   "cell_type": "markdown",
   "metadata": {},
   "source": [
    "Merge sort is **MUCH** more efficient than any quadratic sorting algorithm.\n",
    "\n",
    "It is optimally efficient. There are and can not be any sorting algorithm which operates via comparing elements whose runtime is better than $O(n lg n)$."
   ]
  },
  {
   "cell_type": "markdown",
   "metadata": {},
   "source": [
    "Merge Sort is an old alogorithm. It was invented by von Neumann in 1945."
   ]
  },
  {
   "cell_type": "markdown",
   "metadata": {},
   "source": [
    "The Idea:\n",
    "\n",
    "Given some list, recursively split it in half until we get down to lists of size 1. A list with a single element is sorted.\n",
    "\n",
    "Then merge the sorted lists back together in the order that we split them in until we get back up to a single sorted list."
   ]
  },
  {
   "cell_type": "markdown",
   "metadata": {},
   "source": [
    "<br>\n",
    "<img src=\"images/02-merge-sort.png\" width=\"500\">\n",
    "<br>"
   ]
  },
  {
   "cell_type": "markdown",
   "metadata": {},
   "source": [
    "<br>\n",
    "<img src=\"images/03-merge-sort.png\" width=\"500\">\n",
    "<br>"
   ]
  },
  {
   "cell_type": "markdown",
   "metadata": {},
   "source": [
    "The efficiency comes from the fact that we can merge two sorted lists with a linear runtime.\n",
    "\n",
    "But first, the overall mergesort algorithm:"
   ]
  },
  {
   "cell_type": "code",
   "execution_count": 5,
   "metadata": {},
   "outputs": [],
   "source": [
    "def merge_sort(lst):\n",
    "    if (len(lst) == 1):\n",
    "        return lst\n",
    "    \n",
    "    # recursively apply merge sort each half of the list\n",
    "    middle_index = len(lst)//2\n",
    "    left = merge_sort(lst[:middle_index])\n",
    "    right = merge_sort(lst[middle_index:])\n",
    "\n",
    "    return merge(left, right)"
   ]
  },
  {
   "cell_type": "markdown",
   "metadata": {},
   "source": [
    "# Performing Merge\n",
    "\n",
    "```\n",
    "[2 3 5] [1 4]\n",
    " ^       ^\n",
    " l       r\n",
    "[1]\n",
    "\n",
    "[2 3 5] [1 4]\n",
    "   ^       ^\n",
    "   l       r\n",
    "[1 2]\n",
    "\n",
    "[2 3 5] [1 4]\n",
    "   ^       ^\n",
    "   l       r\n",
    "[1 2 3]\n",
    "\n",
    "[2 3 5] [1 4]\n",
    "     ^     ^\n",
    "     l     r\n",
    "[1 2 3 4]\n",
    "\n",
    "[2 3 5] [1 4]\n",
    "     ^       ^\n",
    "     l       r\n",
    "[1 2 3 4 5]\n",
    "```\n",
    "\n",
    "The merge, at each step, we compare the smallest elements from the left and right sublistss. The smaller of the two is the smallest of the whole list. We continue until we've added all elements from one of the lists to the combined list. Then we add everything that remains from the other to the combined list."
   ]
  },
  {
   "cell_type": "code",
   "execution_count": 4,
   "metadata": {},
   "outputs": [
    {
     "name": "stdout",
     "output_type": "stream",
     "text": [
      "[1, 2, 4, 5, 6]\n"
     ]
    }
   ],
   "source": [
    "def merge(left, right):\n",
    "    l = 0 # start l and r at the beginning of their lists\n",
    "    r = 0\n",
    "    combined_list = []\n",
    "    # go pair by pair through the lists\n",
    "    while l < len(left) and r < len(right):\n",
    "        if left[l] <= right[r]:\n",
    "            combined_list.append(left[l])\n",
    "            l += 1\n",
    "        else:\n",
    "            combined_list.append(right[r])\n",
    "            r += 1\n",
    "    # we've added everything from one of the lists to the combines list.\n",
    "    # now add all that remains from the other list.\n",
    "    if l >= len(left): # left is empty\n",
    "        for i in range(r, len(right)):\n",
    "            combined_list.append(right[i])\n",
    "    else: # right is empty\n",
    "        for i in range(l, len(left)):\n",
    "            combined_list.append(left[i])\n",
    "    return combined_list\n",
    "\n",
    "left = [4, 5, 6]\n",
    "right = [1, 2]\n",
    "\n",
    "print(merge(left, right))"
   ]
  },
  {
   "cell_type": "code",
   "execution_count": 6,
   "metadata": {},
   "outputs": [
    {
     "name": "stdout",
     "output_type": "stream",
     "text": [
      "[0, 1, 2, 3, 4, 5, 6, 7, 8, 9]\n"
     ]
    }
   ],
   "source": [
    "lst = [2, 5, 3, 1, 4, 6, 7, 0, 9 , 8]\n",
    "print(merge_sort(lst))"
   ]
  },
  {
   "cell_type": "markdown",
   "metadata": {},
   "source": [
    "# Runtime Analysis\n",
    "\n",
    "## Merge\n",
    "\n",
    "If the number of elements in both lists is N, then merge will perform exactly N insertions into the combined list.\n",
    "\n",
    "Some will come from the pairwise comparisons. The rest will come from adding everything that remains from the non-empty list.\n",
    "\n",
    "Merge is $O(n)$"
   ]
  },
  {
   "cell_type": "markdown",
   "metadata": {},
   "source": [
    "## Merge Sort\n",
    "\n",
    "Merge is $O(n)$. How often will merge be called?\n",
    "\n",
    "It will be called roughly proportionally to the number of levels in the recursion tree.\n",
    "\n",
    "It may be called multiple times in a level, but over the course of that entire level, it will still be $O(n)$ work.\n",
    "\n",
    "How many levels are there?\n",
    "\n",
    "Since we're splitting the list in half each recursive call, how many times must we split the list until we get down to lists of size 1?\n",
    "\n",
    "$O(lg n)$ times.\n",
    "\n",
    "We have $lg n$  levels to the tree, and each level requires $O(n)$ work.\n",
    "\n",
    "The total amount of work is $O(n lg n)$"
   ]
  }
 ],
 "metadata": {
  "interpreter": {
   "hash": "aee8b7b246df8f9039afb4144a1f6fd8d2ca17a180786b69acc140d282b71a49"
  },
  "kernelspec": {
   "display_name": "Python 3.9.6 64-bit",
   "language": "python",
   "name": "python3"
  },
  "language_info": {
   "codemirror_mode": {
    "name": "ipython",
    "version": 3
   },
   "file_extension": ".py",
   "mimetype": "text/x-python",
   "name": "python",
   "nbconvert_exporter": "python",
   "pygments_lexer": "ipython3",
   "version": "3.9.6"
  },
  "orig_nbformat": 4
 },
 "nbformat": 4,
 "nbformat_minor": 2
}
