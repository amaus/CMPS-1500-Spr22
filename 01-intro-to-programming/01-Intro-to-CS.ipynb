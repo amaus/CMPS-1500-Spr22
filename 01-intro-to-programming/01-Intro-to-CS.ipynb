{
 "cells": [
  {
   "cell_type": "markdown",
   "metadata": {},
   "source": [
    "# Welcome to Intro to CS I!\n",
    "\n",
    "Today's Agenda:\n",
    "\n",
    "- What is Computer Science?\n",
    "- Overview of Course: what we will cover\n",
    "\n",
    "What is CS?\n",
    "\n",
    "CS is crucial to the running of the world. Much of our daily activities depend on the products of computer science.\n",
    "\n",
    "CS studies how we can take input, process them, and produce output by a computer.\n",
    "\n",
    "CS studies how we turn human readable language into instructions that can be executes on a computer.\n",
    "\n",
    "CS studies how to create hardware and software to solve problems.\n",
    "\n",
    "CS is the study of computation. Computer science studies how we can create computer systems to solve the world's problems. This requires developing the hardware and the software to solve them. It also studies how we can create the programs to solve them.\n",
    "CS also examines how we think about, organize, and process the world's data to solve the world's problems.\n",
    "\n",
    "**Thinking about**: A large part of learning computer science is learning a new way of thinking. We have to problem solve and rigorously codify our solutions into working programs and systems.\n",
    "\n",
    "**Organizing**: In order to solve the world's largest problems, large amounts of data must be stored so that it can be efficiently processed.\n",
    "\n",
    "**Processing**: Often, the most powerful programs are those that can most efficiently execute.\n",
    "\n",
    "## Course Overview\n",
    "\n",
    "- Learning how to program: This will be the throughline of the course\n",
    "\n",
    "- Computer Organization: How to go from boolean expressions to circuits and computers\n",
    "\n",
    "- Introduction to Algorithms and Algorithmic Analysis \n",
    "\n",
    "- Software Development: Object Oriented Programming\n",
    "\n",
    "- Computer Theory: This limits of computation"
   ]
  }
 ],
 "metadata": {
  "language_info": {
   "name": "python"
  },
  "orig_nbformat": 4
 },
 "nbformat": 4,
 "nbformat_minor": 2
}
