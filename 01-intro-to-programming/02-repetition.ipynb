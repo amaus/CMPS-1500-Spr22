{
 "cells": [
  {
   "cell_type": "markdown",
   "metadata": {},
   "source": [
    "# Repetition aka iteration\n",
    "\n",
    "Repetition is just to repeat some set of instructions for some amount of times.\n",
    "\n",
    "There are two major forms of repetition:\n",
    "- condition iteration\n",
    "- counting iteration\n",
    "\n",
    "In conditional we will continue to iterate until some condition becomes False.\n",
    "\n",
    "In counting iteration, we repeat a set of instructions a set number of times."
   ]
  },
  {
   "cell_type": "markdown",
   "metadata": {},
   "source": [
    "## Conditional Iteration\n",
    "\n",
    "We use \"while\" loops for conditional iteration.\n",
    "\n",
    "Syntax:\n",
    "\n",
    "``` python\n",
    "while some_condition_is_true:\n",
    "    # perform some set of steps\n",
    "    # ...\n",
    "# this line is outside of the loop\n",
    "```\n",
    "\n",
    "First Example: Even or Odd Input\n",
    "\n",
    "Ask the user for a number (or hit q to quit) and print out if that number is even or odd. Do this until they quit."
   ]
  },
  {
   "cell_type": "code",
   "execution_count": 3,
   "metadata": {},
   "outputs": [
    {
     "name": "stdout",
     "output_type": "stream",
     "text": [
      "3 is odd\n",
      "4 is even\n",
      "10383719328739174 is even\n"
     ]
    }
   ],
   "source": [
    "user_input = input(\"Enter a number (or `q` to quit): \")\n",
    "\n",
    "while user_input != 'q':\n",
    "    num = int(user_input)\n",
    "    # check if number is even or odd\n",
    "    if num % 2 == 0:\n",
    "        # its even\n",
    "        print(\"{} is even\".format(num))\n",
    "    else:\n",
    "        # its odd\n",
    "        print(\"{} is odd\".format(num))\n",
    "    user_input = input(\"Enter a number (or `q` to quit): \")"
   ]
  },
  {
   "cell_type": "markdown",
   "metadata": {},
   "source": [
    "## Counting Iteration\n",
    "\n",
    "We execute a set of instructions some number of times using a for loop.\n",
    "\n",
    "Syntax:\n",
    "\n",
    "```python\n",
    "for i in range(max_value):\n",
    "    # range allows to count from 0 to max_value-1\n",
    "    # at every step, the current value is stored in i\n",
    "    # this loop will execute exactly max_value times\n",
    "```\n",
    "\n",
    "We can start from some number other than 0:\n",
    "\n",
    "```python\n",
    "for i in range(starting_number, max_value):\n",
    "    # range allows to count from 0 to max_value-1\n",
    "    # at every step, the current value is stored in i\n",
    "    # this loop will execute exactly max_value times\n",
    "```"
   ]
  },
  {
   "cell_type": "code",
   "execution_count": 9,
   "metadata": {},
   "outputs": [
    {
     "name": "stdout",
     "output_type": "stream",
     "text": [
      "0\n",
      "1\n",
      "2\n",
      "3\n",
      "4\n",
      "5\n",
      "6\n",
      "7\n",
      "8\n",
      "9\n",
      "\n",
      "5\n",
      "6\n",
      "7\n",
      "8\n",
      "9\n"
     ]
    }
   ],
   "source": [
    "for i in range(10):\n",
    "    print(i)\n",
    "\n",
    "print(\"\")\n",
    "for i in range(5,10):\n",
    "    print(i)"
   ]
  },
  {
   "cell_type": "markdown",
   "metadata": {},
   "source": [
    "# Second Example: Prime Number Checker\n",
    "\n",
    "Until the user decides to quit, read in a number and print if it is prime or not."
   ]
  },
  {
   "cell_type": "code",
   "execution_count": 17,
   "metadata": {},
   "outputs": [
    {
     "name": "stdout",
     "output_type": "stream",
     "text": [
      "1729 is not prime\n",
      "1759 is prime\n"
     ]
    }
   ],
   "source": [
    "user_input = input(\"Enter a number (or `q` to quit): \")\n",
    "\n",
    "while user_input != 'q':\n",
    "    num = int(user_input)\n",
    "    is_prime = True\n",
    "    for divisor in range(2, num//2 + 1):\n",
    "        if num % divisor == 0:\n",
    "            is_prime = False\n",
    "    if is_prime:\n",
    "        print(\"{} is prime\".format(num))\n",
    "    else:\n",
    "        print(\"{} is not prime\".format(num))\n",
    "    user_input = input(\"Enter a number (or `q` to quit): \")"
   ]
  },
  {
   "cell_type": "markdown",
   "metadata": {},
   "source": [
    "### Second Example:\n",
    "\n",
    "Print all primes less than some max_value:"
   ]
  },
  {
   "cell_type": "code",
   "execution_count": 28,
   "metadata": {},
   "outputs": [
    {
     "name": "stdout",
     "output_type": "stream",
     "text": [
      "2\n",
      "3\n",
      "5\n",
      "7\n",
      "11\n",
      "13\n",
      "17\n",
      "19\n",
      "23\n",
      "29\n",
      "31\n",
      "37\n",
      "41\n",
      "43\n",
      "47\n",
      "53\n",
      "59\n",
      "61\n",
      "67\n",
      "71\n",
      "73\n",
      "79\n",
      "83\n",
      "89\n",
      "97\n",
      "101\n",
      "103\n",
      "107\n",
      "109\n",
      "113\n",
      "127\n",
      "131\n",
      "137\n",
      "139\n",
      "149\n",
      "151\n",
      "157\n",
      "163\n",
      "167\n",
      "173\n",
      "179\n",
      "181\n",
      "191\n",
      "193\n",
      "197\n",
      "199\n",
      "211\n",
      "223\n",
      "227\n",
      "229\n",
      "233\n",
      "239\n",
      "241\n",
      "251\n",
      "257\n",
      "263\n",
      "269\n",
      "271\n",
      "277\n",
      "281\n",
      "283\n",
      "293\n",
      "307\n",
      "311\n",
      "313\n",
      "317\n",
      "331\n",
      "337\n",
      "347\n",
      "349\n",
      "353\n",
      "359\n",
      "367\n",
      "373\n",
      "379\n",
      "383\n",
      "389\n",
      "397\n",
      "401\n",
      "409\n",
      "419\n",
      "421\n",
      "431\n",
      "433\n",
      "439\n",
      "443\n",
      "449\n",
      "457\n",
      "461\n",
      "463\n",
      "467\n",
      "479\n",
      "487\n",
      "491\n",
      "499\n",
      "503\n",
      "509\n",
      "521\n",
      "523\n",
      "541\n",
      "547\n",
      "557\n",
      "563\n",
      "569\n",
      "571\n",
      "577\n",
      "587\n",
      "593\n",
      "599\n",
      "601\n",
      "607\n",
      "613\n",
      "617\n",
      "619\n",
      "631\n",
      "641\n",
      "643\n",
      "647\n",
      "653\n",
      "659\n",
      "661\n",
      "673\n",
      "677\n",
      "683\n",
      "691\n",
      "701\n",
      "709\n",
      "719\n",
      "727\n",
      "733\n",
      "739\n",
      "743\n",
      "751\n",
      "757\n",
      "761\n",
      "769\n",
      "773\n",
      "787\n",
      "797\n",
      "809\n",
      "811\n",
      "821\n",
      "823\n",
      "827\n",
      "829\n",
      "839\n",
      "853\n",
      "857\n",
      "859\n",
      "863\n",
      "877\n",
      "881\n",
      "883\n",
      "887\n",
      "907\n",
      "911\n",
      "919\n",
      "929\n",
      "937\n",
      "941\n",
      "947\n",
      "953\n",
      "967\n",
      "971\n",
      "977\n",
      "983\n",
      "991\n",
      "997\n"
     ]
    }
   ],
   "source": [
    "import math\n",
    "\n",
    "max_value = 1000\n",
    "num = 2\n",
    "primes = []\n",
    "for num in range(2, max_value):\n",
    "    is_prime = True\n",
    "    for divisor in range(2, int(math.sqrt(num)) + 1):\n",
    "        if num % divisor == 0:\n",
    "            is_prime = False\n",
    "            break\n",
    "    if is_prime:\n",
    "        print(\"{}\".format(num))\n",
    "        primes.append(num)"
   ]
  },
  {
   "cell_type": "markdown",
   "metadata": {},
   "source": [
    "### Break and Continue\n",
    "\n",
    "**break** allows us to quit a for loop early (when some condition is True)\n",
    "\n",
    "**continue** tells the loop to skip all lines that follow it and skip to the next iteration."
   ]
  },
  {
   "cell_type": "code",
   "execution_count": 27,
   "metadata": {},
   "outputs": [
    {
     "name": "stdout",
     "output_type": "stream",
     "text": [
      "2\n",
      "3\n",
      "4\n",
      "5\n",
      "7\n"
     ]
    }
   ],
   "source": [
    "for i in range (2,10):\n",
    "    if i == 6:\n",
    "        continue # skip printing 6\n",
    "    if i == 8:\n",
    "        break # squit the loop at i==8 (don't print 8 or 9)\n",
    "    print(i)"
   ]
  },
  {
   "cell_type": "markdown",
   "metadata": {},
   "source": [
    "### For loop variants\n",
    "\n",
    "In addition to basic counting, we can use for loops to iterate over sequences."
   ]
  },
  {
   "cell_type": "code",
   "execution_count": null,
   "metadata": {},
   "outputs": [],
   "source": [
    "for prime in primes:\n",
    "    print(prime)"
   ]
  },
  {
   "cell_type": "markdown",
   "metadata": {},
   "source": [
    "We also have the `enumerate` construct which allows us to know the current element and its index into the sequence at every iteration."
   ]
  },
  {
   "cell_type": "code",
   "execution_count": null,
   "metadata": {},
   "outputs": [],
   "source": [
    "for prime, index in enumerate(primes):\n",
    "    print(\"{}: {}\".format(prime, index))"
   ]
  },
  {
   "cell_type": "code",
   "execution_count": 13,
   "metadata": {},
   "outputs": [
    {
     "name": "stdout",
     "output_type": "stream",
     "text": [
      "asdfaZZZZ\n"
     ]
    }
   ],
   "source": [
    "print(\"asdfa\", end=\"\")\n",
    "print(\"ZZZZ\")"
   ]
  }
 ],
 "metadata": {
  "interpreter": {
   "hash": "aee8b7b246df8f9039afb4144a1f6fd8d2ca17a180786b69acc140d282b71a49"
  },
  "kernelspec": {
   "display_name": "Python 3.9.6 64-bit",
   "language": "python",
   "name": "python3"
  },
  "language_info": {
   "codemirror_mode": {
    "name": "ipython",
    "version": 3
   },
   "file_extension": ".py",
   "mimetype": "text/x-python",
   "name": "python",
   "nbconvert_exporter": "python",
   "pygments_lexer": "ipython3",
   "version": "3.9.6"
  },
  "orig_nbformat": 4
 },
 "nbformat": 4,
 "nbformat_minor": 2
}
