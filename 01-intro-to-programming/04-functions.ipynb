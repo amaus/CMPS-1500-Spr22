{
 "cells": [
  {
   "cell_type": "markdown",
   "metadata": {},
   "source": [
    "# Functions\n",
    "\n",
    "A function is a named set of instructions which we can call repeatedley throughout our programs.\n",
    "\n",
    "A function takes input, processes data, and produced output. They are like mini programs.\n",
    "\n",
    "Functions allow us to write code once and call on it as many times and where ever we want.\n",
    "\n",
    "Functions make our programs much more readable. They allow us to abstract away program details behind an nice name so that we don't have to think about those details all the time.\n",
    "\n",
    "Functions make our programs easier to write, easier to read, and easier to maintain."
   ]
  },
  {
   "cell_type": "markdown",
   "metadata": {},
   "source": [
    "Function syntax:\n",
    "\n",
    "```python\n",
    "1 def function_name(parameter1, parameter2,...):\n",
    "2    # function instructions\n",
    "```\n",
    "\n",
    "Line 1 is the function header. `def` tells us we are defining a function. We get to pick the function name. We can have 0 or more parameters inside the parentheses as comma separated list.\n",
    "\n",
    "Parameters allow us to pass input into a function. Parameters are local variables to the function. That is they only exist within the function and they contain the input passed to the function\n",
    "\n",
    "``` python\n",
    "# Assuming only two parameters:\n",
    "function_name(\"Hello\", 2)\n",
    "```\n",
    "\n",
    "In the function itself, parameter1 gets the value \"hello\" and parameter2 gets the value 2.\n",
    "\n",
    "We pass **arguments** (the values) to functions which get stored in the function's **parameters** (input local variables).\n",
    "\n",
    "We can have a function return output by using the return statment:\n",
    "\n",
    "```python\n",
    "1 def function_name(parameter1, parameter2,...):\n",
    "2    # function instructions\n",
    "3    return some_output\n",
    "```\n",
    "\n",
    "When we call on this function, we can store its output and use it however we want.\n",
    "\n",
    "``` python\n",
    "# Assuming only two parameters:\n",
    "output = function_name(\"Hello\", 2)\n",
    "print(output)\n",
    "```\n"
   ]
  },
  {
   "cell_type": "code",
   "execution_count": 4,
   "metadata": {},
   "outputs": [
    {
     "name": "stdout",
     "output_type": "stream",
     "text": [
      "6.0\n",
      "0\n",
      "0\n"
     ]
    }
   ],
   "source": [
    "# return the area of a right triangles\n",
    "base = 0 # separate variables from the base and height\n",
    "         # in the function\n",
    "height = 0\n",
    "def right_triangle_area(base, height):\n",
    "    area = 0.5*base*height\n",
    "    return area\n",
    "\n",
    "\n",
    "print(right_triangle_area(4, 3))\n",
    "print(base)\n",
    "print(height)"
   ]
  },
  {
   "cell_type": "markdown",
   "metadata": {},
   "source": [
    "## Best practices\n",
    "\n",
    "In `right_triangle_area` we take in the input through parameters. This generally always preferred over asking the user for input.\n",
    "\n",
    "If the function asks the user for input, it can only be used if a user is there to type input.\n",
    "\n",
    "If the function takes the input through parameters, it can be used in automated fashions and is much more useful.\n",
    "\n"
   ]
  },
  {
   "cell_type": "markdown",
   "metadata": {},
   "source": [
    "# Mutable vs. Immutable Arguments\n",
    "\n",
    "We've seen that parameters are local variables to the fuction.\n",
    "\n",
    "Arguments that contain a single variable are immutable."
   ]
  },
  {
   "cell_type": "code",
   "execution_count": 5,
   "metadata": {},
   "outputs": [
    {
     "name": "stdout",
     "output_type": "stream",
     "text": [
      "1\n",
      "1\n"
     ]
    }
   ],
   "source": [
    "def mult_by_two(val):\n",
    "    val *= 2\n",
    "\n",
    "val = 1\n",
    "print(val)\n",
    "mult_by_two(val)\n",
    "print(val)"
   ]
  }
 ],
 "metadata": {
  "interpreter": {
   "hash": "aee8b7b246df8f9039afb4144a1f6fd8d2ca17a180786b69acc140d282b71a49"
  },
  "kernelspec": {
   "display_name": "Python 3.9.6 64-bit",
   "language": "python",
   "name": "python3"
  },
  "language_info": {
   "codemirror_mode": {
    "name": "ipython",
    "version": 3
   },
   "file_extension": ".py",
   "mimetype": "text/x-python",
   "name": "python",
   "nbconvert_exporter": "python",
   "pygments_lexer": "ipython3",
   "version": "3.9.6"
  },
  "orig_nbformat": 4
 },
 "nbformat": 4,
 "nbformat_minor": 2
}
