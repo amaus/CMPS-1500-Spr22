{
 "cells": [
  {
   "cell_type": "markdown",
   "metadata": {},
   "source": [
    "# Intro to Programming\n",
    "\n",
    "Covered so far:\n",
    "\n",
    "- Output (print())\n",
    "- variable\n",
    "    - type\n",
    "- input"
   ]
  },
  {
   "cell_type": "code",
   "execution_count": 12,
   "metadata": {},
   "outputs": [
    {
     "name": "stdout",
     "output_type": "stream",
     "text": [
      "aaron\n",
      "<class 'int'>\n",
      "Hello aaron . Your age is 9\n",
      "Hello aaron. Your age is 9\n",
      "you are 3285 days old\n"
     ]
    }
   ],
   "source": [
    "name = input(\"What is your name \")\n",
    "print(name)\n",
    "age = int(input(\"what is your age? \"))\n",
    "print(type(age))\n",
    "print(\"Hello\", name, \". Your age is\", age)\n",
    "print(\"Hello {}. Your age is {}\".format(name, age))\n",
    "age_in_days = age * 365\n",
    "print(\"you are {} days old\".format(age_in_days))"
   ]
  },
  {
   "cell_type": "markdown",
   "metadata": {},
   "source": [
    "## Decision Making (Conditionals)\n",
    "\n",
    "We can use `if-else` statements to make decisions.\n",
    "\n",
    "Syntatically:\n",
    "\n",
    "```python\n",
    "if some_condition_is_true:\n",
    "    # execute this instruction\n",
    "    # and this one (as many as we want)\n",
    "else:\n",
    "    # execute these instructions\n",
    "    #...\n",
    "# execute this no matter what\n",
    "```"
   ]
  },
  {
   "cell_type": "code",
   "execution_count": 15,
   "metadata": {},
   "outputs": [
    {
     "name": "stdout",
     "output_type": "stream",
     "text": [
      "aaron\n",
      "you are ancient\n",
      "goodbye\n"
     ]
    }
   ],
   "source": [
    "name = input(\"What is your name \")\n",
    "print(name)\n",
    "age = int(input(\"what is your age? \"))\n",
    "if age < 10:\n",
    "    print(\"You are young.\")\n",
    "else:\n",
    "    print(\"you are ancient\")\n",
    "print(\"goodbye\")"
   ]
  },
  {
   "cell_type": "markdown",
   "metadata": {},
   "source": [
    "We can put as many instructions in each **block** as we want.\n",
    "\n",
    "We can have as many if blocks as we want: `if-elif-...`\n",
    "\n"
   ]
  },
  {
   "cell_type": "code",
   "execution_count": 18,
   "metadata": {},
   "outputs": [
    {
     "name": "stdout",
     "output_type": "stream",
     "text": [
      "aaron\n",
      "You are child.\n",
      "you are a teenager\n",
      "goodbye\n"
     ]
    }
   ],
   "source": [
    "name = input(\"What is your name \")\n",
    "print(name)\n",
    "age = int(input(\"what is your age? \"))\n",
    "if age < 10:\n",
    "    print(\"You are child.\")\n",
    "elif age < 20:\n",
    "    print(\"you are a teenager\")\n",
    "else:\n",
    "    print(\"you are ancient\")\n",
    "print(\"goodbye\")"
   ]
  },
  {
   "cell_type": "markdown",
   "metadata": {},
   "source": [
    "Boolean operators\n",
    "\n",
    "We have a whole set of comparison operators:\n",
    "\n",
    "<, >, <=, >=, ==, !=\n",
    "\n",
    "== \"is equal to\n",
    "!= \"is NOT equal to\n",
    "\n",
    "We also have boolean operators:\n",
    "\n",
    "- and\n",
    "  - evaluates to True if both sides are true\n",
    "- or\n",
    "  - evaluates to True if either or both sides is true\n",
    "- not\n",
    "  - negates an expression"
   ]
  },
  {
   "cell_type": "code",
   "execution_count": 31,
   "metadata": {},
   "outputs": [
    {
     "name": "stdout",
     "output_type": "stream",
     "text": [
      "<class 'bool'>\n",
      "True\n",
      "0 is < 100 and even\n"
     ]
    }
   ],
   "source": [
    "var = 5 < 8\n",
    "print(type(var))\n",
    "print(var)\n",
    "\n",
    "num = 0\n",
    "if num < 100 and num % 2 == 0:\n",
    "    print(\"{} is < 100 and even\".format(num))\n",
    "elif num < 100:\n",
    "    print(\"{} is < 100 and odd\".format(num))\n",
    "\n",
    "if not num == 0:\n",
    "    print(\"num is not 0\")"
   ]
  },
  {
   "cell_type": "markdown",
   "metadata": {},
   "source": [
    "## Sequence Data Types\n",
    "\n",
    "In python we have a **list** which allows us to store multiple pieces of data in a single variable.\n",
    "\n",
    "Example:"
   ]
  },
  {
   "cell_type": "code",
   "execution_count": 39,
   "metadata": {},
   "outputs": [
    {
     "name": "stdout",
     "output_type": "stream",
     "text": [
      "[2, 4, 6]\n",
      "4\n",
      "[2, 4, 6, 7]\n",
      "[2, 4, 6, 8]\n",
      "[3, 9, 13, 7, 3]\n",
      "[13, 9, 7, 3, 3]\n"
     ]
    }
   ],
   "source": [
    "even_numbers = [] # creates an empty list\n",
    "even_numbers.append(2) # add value to end of list\n",
    "even_numbers.append(4)\n",
    "even_numbers.append(6)\n",
    "print(even_numbers)\n",
    "\n",
    "# We can access any element in list by its position (its index)\n",
    "# The first position is index 0\n",
    "# We use square braces [] for index access:\n",
    "print(even_numbers[1])\n",
    "\n",
    "even_numbers.append(7)\n",
    "print(even_numbers)\n",
    "# We can update values using indices as well\n",
    "even_numbers[3] = 8\n",
    "print(even_numbers)\n",
    "\n",
    "# We can also initialize a list with its values\n",
    "odd_numbers = [3, 9, 13, 7, 3]\n",
    "print(odd_numbers)\n",
    "odd_numbers.sort()\n",
    "print(odd_numbers)\n",
    "\n"
   ]
  },
  {
   "cell_type": "markdown",
   "metadata": {},
   "source": [
    "### Strings\n",
    "\n",
    "Strings are sequences of their characters. You can access into them by indices just like lists.\n",
    "\n",
    "Strings are **immutable**. Once created, a string can not be modified.\n",
    "\n",
    "There are several string functions for dealing with strings, zybooks has a list.\n",
    "\n",
    "We can also **slice** into strings (and lists).\n",
    "\n"
   ]
  },
  {
   "cell_type": "code",
   "execution_count": 6,
   "metadata": {},
   "outputs": [
    {
     "name": "stdout",
     "output_type": "stream",
     "text": [
      "y\n",
      "my string\n",
      "My string\n",
      "My st\n",
      "My st\n",
      "string\n",
      "['My', 'string']\n",
      "['2', '3', '5', '7', '11']\n"
     ]
    }
   ],
   "source": [
    "str = \"my string\"\n",
    "\n",
    "print(str[1])\n",
    "\n",
    "#str[0] = \"M\" # Not allowed\n",
    "print(str)\n",
    "\n",
    "str = \"My string\" # replaces the old string with a new one\n",
    "print(str)\n",
    "\n",
    "# string slicing\n",
    "\n",
    "print(str[0:5])\n",
    "\n",
    "# slicing notation is inclusive of the first index, but exclusive\n",
    "# of the second\n",
    "\n",
    "# can shorthand omit first index if we want to grab from the beginning\n",
    "print(str[:5])  \n",
    "\n",
    "# Same is true to grab all the way from the end\n",
    "print(str[3:])\n",
    "\n",
    "# we can also split strings up based on certain characters\n",
    "words = str.split()\n",
    "print(words)\n",
    "\n",
    "data = \"2,3,5,7,11\"\n",
    "nums = data.split(\",\")\n",
    "print(nums)\n"
   ]
  }
 ],
 "metadata": {
  "interpreter": {
   "hash": "aee8b7b246df8f9039afb4144a1f6fd8d2ca17a180786b69acc140d282b71a49"
  },
  "kernelspec": {
   "display_name": "Python 3.9.6 64-bit",
   "language": "python",
   "name": "python3"
  },
  "language_info": {
   "codemirror_mode": {
    "name": "ipython",
    "version": 3
   },
   "file_extension": ".py",
   "mimetype": "text/x-python",
   "name": "python",
   "nbconvert_exporter": "python",
   "pygments_lexer": "ipython3",
   "version": "3.9.6"
  },
  "orig_nbformat": 4
 },
 "nbformat": 4,
 "nbformat_minor": 2
}
