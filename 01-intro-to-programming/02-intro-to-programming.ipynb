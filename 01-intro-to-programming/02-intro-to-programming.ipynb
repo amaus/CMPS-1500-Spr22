{
 "cells": [
  {
   "cell_type": "markdown",
   "metadata": {},
   "source": [
    "# Intro to Programming\n",
    "\n",
    "Covered so far:\n",
    "\n",
    "- Output (print())\n",
    "- variable\n",
    "    - type\n",
    "- input"
   ]
  },
  {
   "cell_type": "code",
   "execution_count": 12,
   "metadata": {},
   "outputs": [
    {
     "name": "stdout",
     "output_type": "stream",
     "text": [
      "aaron\n",
      "<class 'int'>\n",
      "Hello aaron . Your age is 9\n",
      "Hello aaron. Your age is 9\n",
      "you are 3285 days old\n"
     ]
    }
   ],
   "source": [
    "name = input(\"What is your name \")\n",
    "print(name)\n",
    "age = int(input(\"what is your age? \"))\n",
    "print(type(age))\n",
    "print(\"Hello\", name, \". Your age is\", age)\n",
    "print(\"Hello {}. Your age is {}\".format(name, age))\n",
    "age_in_days = age * 365\n",
    "print(\"you are {} days old\".format(age_in_days))"
   ]
  },
  {
   "cell_type": "markdown",
   "metadata": {},
   "source": [
    "## Decision Making (Conditionals)\n",
    "\n",
    "We can use `if-else` statements to make decisions.\n",
    "\n",
    "Syntatically:\n",
    "\n",
    "```python\n",
    "if some_condition_is_true:\n",
    "    # execute this instruction\n",
    "    # and this one (as many as we want)\n",
    "else:\n",
    "    # execute these instructions\n",
    "    #...\n",
    "# execute this no matter what\n",
    "```"
   ]
  },
  {
   "cell_type": "code",
   "execution_count": 15,
   "metadata": {},
   "outputs": [
    {
     "name": "stdout",
     "output_type": "stream",
     "text": [
      "aaron\n",
      "you are ancient\n",
      "goodbye\n"
     ]
    }
   ],
   "source": [
    "name = input(\"What is your name \")\n",
    "print(name)\n",
    "age = int(input(\"what is your age? \"))\n",
    "if age < 10:\n",
    "    print(\"You are young.\")\n",
    "else:\n",
    "    print(\"you are ancient\")\n",
    "print(\"goodbye\")"
   ]
  },
  {
   "cell_type": "markdown",
   "metadata": {},
   "source": [
    "We can put as many instructions in each **block** as we want.\n",
    "\n",
    "We can have as many if blocks as we want: `if-elif-...`\n",
    "\n"
   ]
  },
  {
   "cell_type": "code",
   "execution_count": 18,
   "metadata": {},
   "outputs": [
    {
     "name": "stdout",
     "output_type": "stream",
     "text": [
      "aaron\n",
      "You are child.\n",
      "you are a teenager\n",
      "goodbye\n"
     ]
    }
   ],
   "source": [
    "name = input(\"What is your name \")\n",
    "print(name)\n",
    "age = int(input(\"what is your age? \"))\n",
    "if age < 10:\n",
    "    print(\"You are child.\")\n",
    "elif age < 20:\n",
    "    print(\"you are a teenager\")\n",
    "else:\n",
    "    print(\"you are ancient\")\n",
    "print(\"goodbye\")"
   ]
  },
  {
   "cell_type": "markdown",
   "metadata": {},
   "source": [
    "Boolean operators\n",
    "\n",
    "We have a whole set of comparison operators:\n",
    "\n",
    "- <, >, <=, >=, ==, !=\n",
    "\n",
    "== \"is equal to\n",
    "!= \"is NOT equal to\n",
    "\n",
    "We also have boolean operators:\n",
    "\n",
    "- and\n",
    "- or\n",
    "- not"
   ]
  }
 ],
 "metadata": {
  "interpreter": {
   "hash": "aee8b7b246df8f9039afb4144a1f6fd8d2ca17a180786b69acc140d282b71a49"
  },
  "kernelspec": {
   "display_name": "Python 3.9.6 64-bit",
   "language": "python",
   "name": "python3"
  },
  "language_info": {
   "codemirror_mode": {
    "name": "ipython",
    "version": 3
   },
   "file_extension": ".py",
   "mimetype": "text/x-python",
   "name": "python",
   "nbconvert_exporter": "python",
   "pygments_lexer": "ipython3",
   "version": "3.9.6"
  },
  "orig_nbformat": 4
 },
 "nbformat": 4,
 "nbformat_minor": 2
}
