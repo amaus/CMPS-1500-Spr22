{
 "cells": [
  {
   "cell_type": "markdown",
   "metadata": {},
   "source": [
    "# Boolean Operations and Truth Tables\n",
    "\n",
    "Boolean logic is the study of mathematical expressions which evalute to True or False.\n",
    "\n",
    "We'll discuss a set of boolean operations and their truth tables.\n",
    "\n",
    "A truth just states what the output is for every input to some boolean expression.\n",
    "\n",
    "- AND\n",
    "- OR\n",
    "- NOT\n",
    "- XOR\n",
    "- NAND\n",
    "- NOR"
   ]
  },
  {
   "cell_type": "markdown",
   "metadata": {},
   "source": [
    "## AND\n",
    "\n",
    "AND is TRUE if and only if sides of the expression are TRUE.\n",
    "\n",
    "In binary, `0` is `False` and `1` is `True`.\n",
    "\n",
    "For notation, I will express AND as if we are multiplying two variables:\n",
    "\n",
    "`A AND B` is `AB`.\n",
    "\n",
    "| A | B | AB |\n",
    "|---|---|----|\n",
    "| 0 | 0 | 0  |\n",
    "| 0 | 1 | 0  |\n",
    "| 1 | 0 | 0  |\n",
    "| 1 | 1 | 1  |"
   ]
  },
  {
   "cell_type": "markdown",
   "metadata": {},
   "source": [
    "## OR\n",
    "\n",
    "OR is TRUE if either or both sides of the expression is TRUE.\n",
    "\n",
    "I will express OR using `+`.\n",
    "\n",
    "| A | B | A+B |\n",
    "|---|---|-----|\n",
    "| 0 | 0 |  0  |\n",
    "| 0 | 1 |  1  |\n",
    "| 1 | 0 |  1  |\n",
    "| 1 | 1 |  1  |"
   ]
  },
  {
   "cell_type": "markdown",
   "metadata": {},
   "source": [
    "## NOT\n",
    "\n",
    "Not is the negation of a single expression.\n",
    "\n",
    "I will express using `'`. It can also be expressed using the bar notation.\n",
    "\n",
    "| A |  A' |\n",
    "|---|-----|\n",
    "| 0 |  1  |\n",
    "| 1 |  0  |"
   ]
  },
  {
   "cell_type": "markdown",
   "metadata": {},
   "source": [
    "## XOR\n",
    "\n",
    "XOR is \"exclusive or\" and is TRUE if one side or the either are TRUE, but not both.\n",
    "\n",
    "I will express OR using `(+)`.\n",
    "\n",
    "| A | B | A(+)B |\n",
    "|---|---|-------|\n",
    "| 0 | 0 |  0    |\n",
    "| 0 | 1 |  1    |\n",
    "| 1 | 0 |  1    |\n",
    "| 1 | 1 |  0    |"
   ]
  },
  {
   "cell_type": "markdown",
   "metadata": {},
   "source": [
    "## NAND\n",
    "\n",
    "NAND is \"NOT AND\".\n",
    "\n",
    "| A | B | (AB)' |\n",
    "|---|---|-------|\n",
    "| 0 | 0 |   1   |\n",
    "| 0 | 1 |   1   |\n",
    "| 1 | 0 |   1   |\n",
    "| 1 | 1 |   0   |"
   ]
  },
  {
   "cell_type": "markdown",
   "metadata": {},
   "source": [
    "## NOR\n",
    "\n",
    "NOR is \"NOT OR\" \n",
    "\n",
    "| A | B | (A+B)' |\n",
    "|---|---|--------|\n",
    "| 0 | 0 |    1   |\n",
    "| 0 | 1 |    0   |\n",
    "| 1 | 0 |    0   |\n",
    "| 1 | 1 |    0   |"
   ]
  }
 ],
 "metadata": {
  "language_info": {
   "name": "python"
  },
  "orig_nbformat": 4
 },
 "nbformat": 4,
 "nbformat_minor": 2
}
