{
 "cells": [
  {
   "cell_type": "markdown",
   "metadata": {},
   "source": [
    "# Memory\n",
    "\n",
    "Just like with the adder, we can build simple circuits out of our logic gates to store bits.\n",
    "\n",
    "We'll start with single bits and expand to multiple bits.\n",
    "\n",
    "Once we can store a N-bit number, we've built a **register**.\n",
    "\n",
    "A **register** is a single memory location.\n",
    "\n",
    "Registers are built directly onto the CPU and they are used to store data as a program is executing.\n",
    "\n",
    "Take the following python instruction:\n",
    "\n",
    "`a = b + 5`\n",
    "\n",
    "To execute this instruction, the CPU will ask the Memory Management Unit (MMU) to get the value of `b` from RAM and store it in a register on the CPU.\n",
    "\n",
    "Then the adder in the ALU will be executed to add 5 to this register.\n",
    "\n",
    "Finally the MMU will be used to copy the value from the register over to RAM where the variable `a` is located.\n",
    "\n"
   ]
  },
  {
   "cell_type": "markdown",
   "metadata": {},
   "source": [
    "## Building Blocks\n",
    "\n",
    "The fundamental building block for a register is the **SR-latch**.\n",
    "\n",
    "SR stands for \"Set/Reset\".\n",
    "\n",
    "It takes two inputs, SET and RESET. When SET is 1, the output is set to be 1 until RESET becomes one.\n",
    "\n",
    "An SR Latch is built from a pair of cross-connected NOR Gates."
   ]
  },
  {
   "cell_type": "markdown",
   "metadata": {},
   "source": [
    "<br>\n",
    "<img src=\"images/06-SR.png\" width=\"500\">\n",
    "<br>"
   ]
  },
  {
   "cell_type": "markdown",
   "metadata": {},
   "source": [
    "The problem with an SR latch is that both SET and RESET are 1 simultaneously, we get undefined behavior.\n",
    "\n",
    "To solve this, we want to ensure only one of the NOR gates can receive a 1 at any instant.\n",
    "\n",
    "We can ensure this buy adding a pair of AND gates and a NOT gate such that only one of the AND gates will be True at any time."
   ]
  },
  {
   "cell_type": "markdown",
   "metadata": {},
   "source": [
    "<br>\n",
    "<img src=\"images/07-D-latch.png\" width=\"500\">\n",
    "<br>"
   ]
  },
  {
   "cell_type": "markdown",
   "metadata": {},
   "source": [
    "This is refered to as a **D-Latch**. It can only be updated if it is enabled."
   ]
  },
  {
   "cell_type": "markdown",
   "metadata": {},
   "source": [
    "Right now, our memory has to be enabled in order to be used. If we many of them, then they can be enabled and disabled at any time and something needs to manage and control that process.\n",
    "\n",
    "To avoid extra complexity, a simple solution has been arrived at: the CPU clock.\n",
    "\n",
    "The CPU clock toggles ON and OFF periodically. On every ON burst the memory locations can be updated. All locations are updated in sync by the clock. \n",
    "\n",
    "While the D-latch can only be updated when ENABLE is one, we want our final bit to change states on every clock tick.\n",
    "\n",
    "We can ensure this by chaining two d-latches together where the output of the first goes to the input of the second and they are enabled on an alternating basis."
   ]
  },
  {
   "cell_type": "markdown",
   "metadata": {},
   "source": [
    "<br>\n",
    "<img src=\"images/08-D-flip-flop.png\" width=\"700\">\n",
    "<br> "
   ]
  },
  {
   "cell_type": "markdown",
   "metadata": {},
   "source": [
    "<br>\n",
    "<img src=\"images/09-D-flip-flop.png\" width=\"700\">\n",
    "<br> "
   ]
  },
  {
   "cell_type": "markdown",
   "metadata": {},
   "source": [
    "Since they are enabled on an alternating basis, we get a \"flip flop\" behavior from them and the Data input only passes all the way through when the second is enabled as the clock goes from off to on."
   ]
  },
  {
   "cell_type": "markdown",
   "metadata": {},
   "source": [
    "<br>\n",
    "<img src=\"images/10-D-flip-flop.png\" width=\"700\">\n",
    "<br> "
   ]
  },
  {
   "cell_type": "markdown",
   "metadata": {},
   "source": [
    "<br>\n",
    "<img src=\"images/11-D-flip-flop.png\" width=\"700\">\n",
    "<br> "
   ]
  },
  {
   "cell_type": "markdown",
   "metadata": {},
   "source": [
    "In this way, all flip flops can be synchronized to the clock, giving us an exact moment when all data in the system is updated.\n",
    "\n",
    "This order is crucial to keeping the overall system design simple."
   ]
  }
 ],
 "metadata": {
  "language_info": {
   "name": "python"
  },
  "orig_nbformat": 4
 },
 "nbformat": 4,
 "nbformat_minor": 2
}
