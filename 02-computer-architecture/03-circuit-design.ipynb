{
 "cells": [
  {
   "cell_type": "markdown",
   "metadata": {},
   "source": [
    "# Intro to Circuit Design\n",
    "\n",
    "All classical computers are built from these logic gates.\n",
    "\n",
    "We connect AND, OR, NOT, XOR, etc gates together to build the basic circuits of a computer. For example, we will build ADDERS and REGISTERS which are fundamental to a computer.\n",
    "\n",
    "An ADDER adds two n-bit numbers together.\n",
    "\n",
    "A REGISTER is volatile memory location. As long as current passing through the circuit, the value will be remembered.\n",
    "\n"
   ]
  }
 ],
 "metadata": {
  "language_info": {
   "name": "python"
  },
  "orig_nbformat": 4
 },
 "nbformat": 4,
 "nbformat_minor": 2
}
