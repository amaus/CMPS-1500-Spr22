{
 "cells": [
  {
   "cell_type": "markdown",
   "metadata": {},
   "source": [
    "# Building an Adder\n",
    "\n"
   ]
  },
  {
   "cell_type": "markdown",
   "metadata": {},
   "source": [
    "CPUs are built as a collection of units:\n",
    "\n",
    "- Control Unit\n",
    "- Arithmetic Logic Unit\n",
    "- Memory Management Unit\n",
    "\n",
    "We will build an ADDER which which belongs in the ALU and a register which might be a part of the MMU."
   ]
  },
  {
   "cell_type": "markdown",
   "metadata": {},
   "source": [
    "# Step One, Defining the Problem\n",
    "\n",
    "Given two n-bit numbers, return a third number that is their sum.\n",
    "\n",
    "```\n",
    "   11\n",
    "  1011\n",
    " +0001\n",
    "  ----\n",
    "  1100\n",
    "```\n",
    "\n",
    "We'll start with a single column which we will then expand so that we can carry-over to perform n-bin addition.\n",
    "\n",
    "For a single column, the inputs are the two bits to be added.\n",
    "\n",
    "We have two inputs, the two bits, and two outputs, the sum and the carry over bits.\n",
    "\n",
    "```\n",
    "0 + 0 = 00\n",
    "0 + 1 = 01\n",
    "1 + 0 = 01\n",
    "1 + 1 = 10\n",
    "```\n",
    "\n",
    "```\n",
    "A B | Co S\n",
    "----------\n",
    "0 0 | 0  0\n",
    "0 1 | 0  1\n",
    "1 0 | 0  1\n",
    "1 1 | 1  0\n",
    "```"
   ]
  },
  {
   "cell_type": "markdown",
   "metadata": {},
   "source": [
    "We can write a boolean expression for both outputs:\n",
    "\n",
    "`Co = AB`\n",
    "\n",
    "`S = A'B + AB'`\n"
   ]
  },
  {
   "cell_type": "markdown",
   "metadata": {},
   "source": [
    "<br>\n",
    "<img src=\"images/02-half-adder-1.png\" width=\"500\">\n",
    "<br>"
   ]
  },
  {
   "cell_type": "markdown",
   "metadata": {},
   "source": [
    "Looking at the truth table, we can see that S is just XOR. So we can simplify:\n",
    "\n",
    "`S = A (+) B`"
   ]
  },
  {
   "cell_type": "markdown",
   "metadata": {},
   "source": [
    "<br>\n",
    "<img src=\"images/03-half-adder-2.png\" width=\"500\">\n",
    "<br>"
   ]
  },
  {
   "cell_type": "markdown",
   "metadata": {},
   "source": [
    "We've just built a **half adder**. With it we can add a single column of an n-bit addition.\n",
    "\n",
    "In order to build a **full adder**, we need to account for the carry-over as an input to the next column.\n",
    "\n",
    "We have three inputs: `A`, `B`, and `Ci`. We'll still have our two outputs: `S` and `Co`.\n",
    "\n"
   ]
  },
  {
   "cell_type": "markdown",
   "metadata": {},
   "source": [
    "```\n",
    "Ci + A + B\n",
    " 0 + 0 + 0 = 00\n",
    " 0 + 0 + 1 = 01\n",
    " 0 + 1 + 0 = 01\n",
    " 0 + 1 + 1 = 10\n",
    " 1 + 0 + 0 = 01\n",
    " 1 + 0 + 1 = 10\n",
    " 1 + 1 + 0 = 10\n",
    " 1 + 1 + 1 = 11\n",
    "```\n",
    "\n",
    "```\n",
    "Ci A B | Co S\n",
    "-------------\n",
    "0 0 0 | 0  0\n",
    "0 0 1 | 0  1\n",
    "0 1 0 | 0  1\n",
    "0 1 1 | 1  0\n",
    "1 0 0 | 0  1\n",
    "1 0 1 | 1  0\n",
    "1 1 0 | 1  0\n",
    "1 1 1 | 1  1\n",
    "```"
   ]
  },
  {
   "cell_type": "markdown",
   "metadata": {},
   "source": [
    "We still have an adder for a single column, except now we account for carry-over.\n",
    "\n",
    "We can build an adder for n-bits, by sending the carry out of one column as the carry-in of the next.\n",
    "\n",
    "`Co = Ci'AB + CiA'B + CiAB' + CiAB`\n",
    "\n",
    "Co would require 10 gates: 3 NOTs, 4 ANDs, and 3 ORs\n",
    "\n",
    "`S = Ci'A'B + Ci'AB' + CiA'B' + CiAB`\n",
    "\n",
    "S would require 13 gates: 6 NOTs, 4 ANDs, and 3 ORs\n",
    "\n",
    "Let's simplify:"
   ]
  },
  {
   "cell_type": "markdown",
   "metadata": {},
   "source": [
    "To simplify Co:\n",
    "\n",
    "If we take:\n",
    "\n",
    "```\n",
    "  Ci'AB + CiAB\n",
    "= AB(Ci'+C)\n",
    "= AB\n",
    "```\n",
    "\n",
    "We can duplicate terms without changing the output:\n",
    "\n",
    "```\n",
    "Co = Ci'AB + CiA'B + CiAB' + CiAB + CiAB + CiAB\n",
    "Co = (Ci'AB + CiAB) + (CiA'B + CiAB) + (CiAB' + CiAB)\n",
    "Co =       AB       +        CiB     +       CiA\n",
    "Co = AB + CiB + CiA\n",
    "```\n"
   ]
  }
 ],
 "metadata": {
  "language_info": {
   "name": "python"
  },
  "orig_nbformat": 4
 },
 "nbformat": 4,
 "nbformat_minor": 2
}
